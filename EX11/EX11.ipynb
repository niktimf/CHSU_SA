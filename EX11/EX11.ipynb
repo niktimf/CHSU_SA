{
 "cells": [
  {
   "cell_type": "markdown",
   "source": [
    "# Практическое занятие 11\n",
    "\n",
    "## Вариант 1\n"
   ],
   "metadata": {
    "collapsed": false,
    "pycharm": {
     "name": "#%% md\n"
    }
   }
  },
  {
   "cell_type": "markdown",
   "source": [
    "![](11.png)"
   ],
   "metadata": {
    "collapsed": false,
    "pycharm": {
     "name": "#%% md\n"
    }
   }
  },
  {
   "cell_type": "code",
   "execution_count": 4,
   "outputs": [],
   "source": [
    "from functools import reduce\n",
    "\n",
    "\n",
    "class JohnsonsAlgorithm:\n",
    "\t\"\"\"\n",
    "    Класс для реализации алгоритма С. Джонсона для оптимизации порядка обработки деталей на двух станках.\n",
    "    \"\"\"\n",
    "\n",
    "\tdef __init__(self, time_a, time_b):\n",
    "\t\t\"\"\"\n",
    "        Инициализирует экземпляр класса с временами обработки на станках А и Б.\n",
    "\n",
    "        :param time_a: Список времен обработки на станке А.\n",
    "        :param time_b: Список времен обработки на станке Б.\n",
    "        \"\"\"\n",
    "\t\tself.time_a = time_a\n",
    "\t\tself.time_b = time_b\n",
    "\n",
    "\tdef _divide_into_groups(self):\n",
    "\t\t\"\"\"\n",
    "        Разделяет детали на две группы в зависимости от их времен обработки на станках.\n",
    "\n",
    "        :return: Возвращает две группы деталей в виде списков индексов.\n",
    "        \"\"\"\n",
    "\t\tgroup_1 = [i for i in range(len(self.time_a)) if self.time_a[i] < self.time_b[i]]\n",
    "\t\tgroup_2 = [i for i in range(len(self.time_a)) if self.time_a[i] >= self.time_b[i]]\n",
    "\t\treturn group_1, group_2\n",
    "\n",
    "\tdef _sort_groups(self, group_1, group_2):\n",
    "\t\t\"\"\"\n",
    "        Сортирует группы деталей согласно критериям алгоритма Джонсона.\n",
    "\n",
    "        :param group_1: Список индексов первой группы деталей.\n",
    "        :param group_2: Список индексов второй группы деталей.\n",
    "        :return: Возвращает отсортированные группы деталей.\n",
    "        \"\"\"\n",
    "\t\tgroup_1_sorted = sorted(group_1, key=lambda x: self.time_a[x])\n",
    "\t\tgroup_2_sorted = sorted(group_2, key=lambda x: self.time_b[x], reverse=True)\n",
    "\t\treturn group_1_sorted, group_2_sorted\n",
    "\n",
    "\tdef calculate_optimal_order(self):\n",
    "\t\t\"\"\"\n",
    "        Вычисляет оптимальный порядок обработки деталей.\n",
    "\n",
    "        :return: Список деталей в оптимальном порядке обработки.\n",
    "        \"\"\"\n",
    "\t\tgroup_1, group_2 = self._divide_into_groups()\n",
    "\t\tgroup_1_sorted, group_2_sorted = self._sort_groups(group_1, group_2)\n",
    "\t\toptimal_order = [x + 1 for x in group_1_sorted + group_2_sorted]\n",
    "\t\treturn optimal_order\n",
    "\n",
    "\tdef calculate_total_time(self, order):\n",
    "\t\t\"\"\"\n",
    "        Вычисляет общее время обработки деталей в заданном порядке с использованием функции reduce.\n",
    "\n",
    "        :param order: Порядок обработки деталей.\n",
    "        :return: Общее время обработки в единицах времени.\n",
    "        \"\"\"\n",
    "\n",
    "\t\t# Функция для накопления времени\n",
    "\t\tdef accumulate_time(acc, part):\n",
    "\t\t\ttime_on_a, total_time = acc\n",
    "\t\t\ttime_on_a += self.time_a[part - 1]\n",
    "\t\t\ttotal_time = max(time_on_a, total_time) + self.time_b[part - 1]\n",
    "\t\t\treturn (time_on_a, total_time)\n",
    "\n",
    "\t\t# Использование reduce для накопления времени\n",
    "\t\t_, total_time = reduce(accumulate_time, order, (0, 0))\n",
    "\t\treturn total_time\n",
    "\n",
    "\n"
   ],
   "metadata": {
    "collapsed": false,
    "pycharm": {
     "name": "#%%\n"
    }
   }
  },
  {
   "cell_type": "code",
   "execution_count": 5,
   "outputs": [
    {
     "data": {
      "text/plain": "([3, 2, 4, 5, 6, 1], 19)"
     },
     "execution_count": 5,
     "metadata": {},
     "output_type": "execute_result"
    }
   ],
   "source": [
    "# Данные времени обработки на станках А и Б для каждой детали\n",
    "time_a = [4, 2, 1, 3, 3, 2]  # Время обработки на станке А\n",
    "time_b = [1, 3, 4, 5, 3, 2]  # Время обработки на станке Б\n",
    "\n",
    "\n",
    "johnsons_algo = JohnsonsAlgorithm(time_a, time_b)\n",
    "optimal_order_class = johnsons_algo.calculate_optimal_order()\n",
    "optimal_total_time_class = johnsons_algo.calculate_total_time(optimal_order_class)\n",
    "\n",
    "optimal_order_class, optimal_total_time_class"
   ],
   "metadata": {
    "collapsed": false,
    "pycharm": {
     "name": "#%%\n"
    }
   }
  },
  {
   "cell_type": "markdown",
   "source": [
    "## Выводы\n",
    "\n",
    "\n",
    "### Входные данные\n",
    "- Время обработки на станке А: `time_a = [4, 2, 1, 3, 3, 2]`\n",
    "- Время обработки на станке Б: `time_b = [1, 3, 4, 5, 3, 2]`\n",
    "\n",
    "### Оптимальный порядок обработки\n",
    "Алгоритм определил следующий оптимальный порядок обработки деталей:\n",
    "- Порядок: `[3, 2, 4, 5, 6, 1]`\n",
    "\n",
    "Это означает, что для минимизации общего времени обработки, детали следует обрабатывать в указанном порядке.\n",
    "\n",
    "### Общее время обработки\n",
    "Общее время обработки деталей при следовании оптимальному порядку:\n",
    "- Время: `19` единиц\n",
    "\n",
    "Это время является минимально возможным для данного набора деталей и времени их обработки на станках А и Б."
   ],
   "metadata": {
    "collapsed": false,
    "pycharm": {
     "name": "#%% md\n"
    }
   }
  }
 ],
 "metadata": {
  "kernelspec": {
   "display_name": "Python 3",
   "language": "python",
   "name": "python3"
  },
  "language_info": {
   "codemirror_mode": {
    "name": "ipython",
    "version": 2
   },
   "file_extension": ".py",
   "mimetype": "text/x-python",
   "name": "python",
   "nbconvert_exporter": "python",
   "pygments_lexer": "ipython2",
   "version": "2.7.6"
  }
 },
 "nbformat": 4,
 "nbformat_minor": 0
}