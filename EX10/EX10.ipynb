{
 "cells": [
  {
   "cell_type": "markdown",
   "source": [
    "# Практическое занятие 10\n",
    "\n",
    "## Вариант 11"
   ],
   "metadata": {
    "collapsed": false,
    "pycharm": {
     "name": "#%% md\n"
    }
   }
  },
  {
   "cell_type": "markdown",
   "source": [
    "### Задание 2"
   ],
   "metadata": {
    "collapsed": false,
    "pycharm": {
     "name": "#%% md\n"
    }
   }
  },
  {
   "cell_type": "code",
   "execution_count": 6,
   "outputs": [
    {
     "data": {
      "text/plain": "(63, [1, 3, 4])"
     },
     "execution_count": 6,
     "metadata": {},
     "output_type": "execute_result"
    }
   ],
   "source": [
    "import pandas as pd\n",
    "\n",
    "class KnapsackSolver:\n",
    "    \"\"\"\n",
    "    Класс для решения задачи о рюкзаке с использованием динамического программирования.\n",
    "    \"\"\"\n",
    "\n",
    "    def __init__(self, items, capacity):\n",
    "        \"\"\"\n",
    "        Инициализирует решатель задачи о рюкзаке с заданными предметами и грузоподъемностью.\n",
    "\n",
    "        :param items: DataFrame, содержащий информацию о предметах (номер, вес, прибыль).\n",
    "        :param capacity: Грузоподъемность рюкзака (самолета).\n",
    "        \"\"\"\n",
    "        self.items = items\n",
    "        self.capacity = capacity\n",
    "        self.dp = [[0 for _ in range(capacity + 1)] for _ in range(len(items) + 1)]\n",
    "\n",
    "    def solve(self):\n",
    "        \"\"\"\n",
    "        Выполняет решение задачи о рюкзаке и возвращает оптимальное сочетание предметов и максимальную прибыль.\n",
    "\n",
    "        :return: Кортеж, содержащий максимальную прибыль и список выбранных предметов.\n",
    "        \"\"\"\n",
    "        # Заполнение таблицы динамического программирования\n",
    "        for i in range(1, len(self.items) + 1):\n",
    "            for w in range(1, self.capacity + 1):\n",
    "                if self.items.loc[i - 1, 'Вес'] <= w:\n",
    "                    self.dp[i][w] = max(self.dp[i - 1][w],\n",
    "                                        self.dp[i - 1][w - self.items.loc[i - 1, 'Вес']] + self.items.loc[i - 1, 'Прибыль'])\n",
    "                else:\n",
    "                    self.dp[i][w] = self.dp[i - 1][w]\n",
    "\n",
    "        # Поиск оптимального решения\n",
    "        return self._find_optimal_solution()\n",
    "\n",
    "    def _find_optimal_solution(self):\n",
    "        \"\"\"\n",
    "        Вспомогательный метод для нахождения оптимального набора предметов на основе заполненной таблицы динамического программирования.\n",
    "\n",
    "        :return: Кортеж, содержащий максимальную прибыль и список выбранных предметов.\n",
    "        \"\"\"\n",
    "        selected_items = []\n",
    "        w = self.capacity\n",
    "        max_profit = self.dp[len(self.items)][w]\n",
    "\n",
    "        # Обратный проход для определения выбранных предметов\n",
    "        for i in range(len(self.items), 0, -1):\n",
    "            if self.dp[i][w] != self.dp[i - 1][w]:\n",
    "                selected_items.append(self.items.loc[i - 1, 'Предмет'])\n",
    "                w -= self.items.loc[i - 1, 'Вес']\n",
    "\n",
    "        selected_items.reverse()  # Переворачиваем список для правильного порядка предметов\n",
    "        return max_profit, selected_items\n",
    "\n",
    "\n",
    "\n",
    "# Использование класса KnapsackSolver\n",
    "items = pd.DataFrame({\n",
    "    'Предмет': [1, 2, 3, 4],\n",
    "    'Вес': [3, 7, 1, 4],\n",
    "    'Прибыль': [16, 19, 4, 43]\n",
    "})\n",
    "W = 10\n",
    "\n",
    "solver = KnapsackSolver(items, W)\n",
    "max_profit, selected_items = solver.solve()\n",
    "\n",
    "max_profit, selected_items\n"
   ],
   "metadata": {
    "collapsed": false,
    "pycharm": {
     "name": "#%%\n"
    }
   }
  },
  {
   "cell_type": "markdown",
   "source": [
    "### Результаты Решения Задачи о Рюкзаке\n",
    "\n",
    "Используя класс `KnapsackSolver`, мы определили оптимальное решение для загрузки самолета, чтобы максимизировать прибыль.\n",
    "\n",
    "#### Входные данные:\n",
    "\n",
    "- Предметы и их характеристики:\n",
    "\n",
    "| Предмет | Вес (т) | Прибыль |\n",
    "|---------|---------|---------|\n",
    "| 1       | 3       | 16      |\n",
    "| 2       | 7       | 19      |\n",
    "| 3       | 1       | 4       |\n",
    "| 4       | 4       | 43      |\n",
    "\n",
    "- Грузоподъемность самолета: **10 тонн**\n",
    "\n",
    "#### Оптимальное решение:\n",
    "\n",
    "- **Максимальная прибыль**: 63\n",
    "- **Предметы для загрузки**: 1, 3, 4\n",
    "\n",
    "Это решение достигается при загрузке предметов с указанными номерами, что дает максимально возможную прибыль при соблюдении ограничения по грузоподъемности самолета."
   ],
   "metadata": {
    "collapsed": false,
    "pycharm": {
     "name": "#%% md\n"
    }
   }
  }
 ],
 "metadata": {
  "kernelspec": {
   "display_name": "Python 3",
   "language": "python",
   "name": "python3"
  },
  "language_info": {
   "codemirror_mode": {
    "name": "ipython",
    "version": 2
   },
   "file_extension": ".py",
   "mimetype": "text/x-python",
   "name": "python",
   "nbconvert_exporter": "python",
   "pygments_lexer": "ipython2",
   "version": "2.7.6"
  }
 },
 "nbformat": 4,
 "nbformat_minor": 0
}