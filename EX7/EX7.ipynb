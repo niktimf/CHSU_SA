{
 "cells": [
  {
   "cell_type": "markdown",
   "source": [
    "# Практическое занятие 7\n",
    "## Вариант 11"
   ],
   "metadata": {
    "collapsed": false,
    "pycharm": {
     "name": "#%% md\n"
    }
   }
  },
  {
   "cell_type": "markdown",
   "source": [
    "### Задание 2\n",
    "\n",
    "![](72.png)"
   ],
   "metadata": {
    "collapsed": false,
    "pycharm": {
     "name": "#%% md\n"
    }
   }
  },
  {
   "cell_type": "code",
   "execution_count": 1,
   "outputs": [
    {
     "data": {
      "text/plain": "([('A', 7), ('B', 3), ('C', 1), ('D', 6), ('E', 2), ('F', 4), ('G', 5)], 36)"
     },
     "execution_count": 1,
     "metadata": {},
     "output_type": "execute_result"
    }
   ],
   "source": [
    "from scipy.optimize import linear_sum_assignment\n",
    "import numpy as np\n",
    "\n",
    "# Создаем матрицу затрат\n",
    "cost_matrix = np.array([\n",
    "\t[4, 5, 9, 5, 6, 14, 6],\n",
    "\t[8, 12, 4, 13, 16, 15, 16],\n",
    "\t[2, 15, 8, 10, 17, 7, 9],\n",
    "\t[14, 8, 4, 9, 5, 6, 7],\n",
    "\t[3, 5, 4, 12, 10, 11, 13],\n",
    "\t[10, 9, 11, 5, 6, 12, 8],\n",
    "\t[7, 13, 8, 22, 8, 11, 10]\n",
    "])\n",
    "\n",
    "# Применяем венгерский метод\n",
    "row_ind, col_ind = linear_sum_assignment(cost_matrix)\n",
    "\n",
    "# Выводим результаты\n",
    "assignments = [(chr(65 + r), c + 1) for r, c in zip(row_ind, col_ind)]\n",
    "total_cost = cost_matrix[row_ind, col_ind].sum()\n",
    "\n",
    "assignments, total_cost"
   ],
   "metadata": {
    "collapsed": false,
    "pycharm": {
     "name": "#%%\n"
    }
   }
  },
  {
   "cell_type": "markdown",
   "source": [
    "## Оптимальное Распределение Работ\n",
    "\n",
    "| Работник | Назначенная Работа |\n",
    "|----------|-------------------|\n",
    "| A        | 7                 |\n",
    "| B        | 3                 |\n",
    "| C        | 1                 |\n",
    "| D        | 6                 |\n",
    "| E        | 2                 |\n",
    "| F        | 4                 |\n",
    "| G        | 5                 |\n",
    "\n",
    "**Суммарные минимальные затраты времени:** 36 единиц\n"
   ],
   "metadata": {
    "collapsed": false,
    "pycharm": {
     "name": "#%% md\n"
    }
   }
  },
  {
   "cell_type": "markdown",
   "source": [
    "### Задание 3"
   ],
   "metadata": {
    "collapsed": false,
    "pycharm": {
     "name": "#%% md\n"
    }
   }
  },
  {
   "cell_type": "code",
   "execution_count": 4,
   "outputs": [
    {
     "data": {
      "text/plain": "([('A', 7), ('B', 3), ('C', 1), ('D', 6), ('E', 2), ('F', 4), ('G', 5)], 36.0)"
     },
     "execution_count": 4,
     "metadata": {},
     "output_type": "execute_result"
    }
   ],
   "source": [
    "import pulp\n",
    "import numpy as np\n",
    "\n",
    "# Исходные данные\n",
    "num_workers = num_jobs = 7\n",
    "costs = np.array([\n",
    "\t[4, 5, 9, 5, 6, 14, 6],\n",
    "\t[8, 12, 4, 13, 16, 15, 16],\n",
    "\t[2, 15, 8, 10, 17, 7, 9],\n",
    "\t[14, 8, 4, 9, 5, 6, 7],\n",
    "\t[3, 5, 4, 12, 10, 11, 13],\n",
    "\t[10, 9, 11, 5, 6, 12, 8],\n",
    "\t[7, 13, 8, 22, 8, 11, 10]\n",
    "])\n",
    "\n",
    "# Создаем модель линейного программирования\n",
    "model = pulp.LpProblem(\"Minimize_Costs\", pulp.LpMinimize)\n",
    "\n",
    "# Создаем переменные (0 или 1 для каждого назначения работника на работу)\n",
    "x = pulp.LpVariable.dicts(\"x\", (range(num_workers), range(num_jobs)), cat='Binary')\n",
    "\n",
    "# Целевая функция (минимизация затрат)\n",
    "model += pulp.lpSum([costs[i][j] * x[i][j] for i in range(num_workers) for j in range(num_jobs)])\n",
    "\n",
    "# Ограничения (каждый работник назначен на одну работу и каждая работа выполнена одним работником)\n",
    "for i in range(num_workers):\n",
    "\tmodel += pulp.lpSum([x[i][j] for j in range(num_jobs)]) == 1\n",
    "\n",
    "for j in range(num_jobs):\n",
    "\tmodel += pulp.lpSum([x[i][j] for i in range(num_workers)]) == 1\n",
    "\n",
    "# Решение задачи\n",
    "model.solve()\n",
    "\n",
    "# Получение и вывод результатов\n",
    "assignments = []\n",
    "for i in range(num_workers):\n",
    "\tfor j in range(num_jobs):\n",
    "\t\tif x[i][j].value() == 1:\n",
    "\t\t\tassignments.append((chr(65 + i), j + 1))\n",
    "\n",
    "assignments, pulp.value(model.objective)\n"
   ],
   "metadata": {
    "collapsed": false,
    "pycharm": {
     "name": "#%%\n"
    }
   }
  },
  {
   "cell_type": "markdown",
   "source": [
    "**Получили аналогичный ответ**"
   ],
   "metadata": {
    "collapsed": false,
    "pycharm": {
     "name": "#%% md\n"
    }
   }
  },
  {
   "cell_type": "markdown",
   "source": [
    "### Задание 4"
   ],
   "metadata": {
    "collapsed": false,
    "pycharm": {
     "name": "#%% md\n"
    }
   }
  },
  {
   "cell_type": "code",
   "execution_count": 3,
   "outputs": [
    {
     "name": "stdout",
     "output_type": "stream",
     "text": [
      "Работник A назначен на работу 7\n",
      "Работник B назначен на работу 3\n",
      "Работник C назначен на работу 1\n",
      "Работник D назначен на работу 6\n",
      "Работник E назначен на работу 2\n",
      "Работник F назначен на работу 4\n",
      "Работник G назначен на работу 5\n",
      "Общие затраты: 36.0\n"
     ]
    }
   ],
   "source": [
    "import pulp\n",
    "\n",
    "costs = [\n",
    "\t[4, 5, 9, 5, 6, 14, 6],\n",
    "\t[8, 12, 4, 13, 16, 15, 16],\n",
    "\t[2, 15, 8, 10, 17, 7, 9],\n",
    "\t[14, 8, 4, 9, 5, 6, 7],\n",
    "\t[3, 5, 4, 12, 10, 11, 13],\n",
    "\t[10, 9, 11, 5, 6, 12, 8],\n",
    "\t[7, 13, 8, 22, 8, 11, 10]\n",
    "]\n",
    "\n",
    "# Создаем модель\n",
    "model = pulp.LpProblem(\"Assignment_Problem\", pulp.LpMinimize)\n",
    "\n",
    "# Количество работ и работников\n",
    "n = 7\n",
    "\n",
    "# Индексы для переменных\n",
    "indices = [(i, j) for i in range(n) for j in range(n)]\n",
    "\n",
    "# Создаем двоичные переменные\n",
    "x = pulp.LpVariable.dicts(\"x\", indices, cat='Binary')\n",
    "\n",
    "# Целевая функция\n",
    "model += pulp.lpSum([costs[i][j] * x[(i, j)] for i in range(n) for j in range(n)])\n",
    "\n",
    "# Ограничения, чтобы каждый работник был назначен на одну работу\n",
    "for i in range(n):\n",
    "\tmodel += pulp.lpSum([x[(i, j)] for j in range(n)]) == 1\n",
    "\n",
    "# Ограничения, чтобы каждая работа была выполнена одним работником\n",
    "for j in range(n):\n",
    "\tmodel += pulp.lpSum([x[(i, j)] for i in range(n)]) == 1\n",
    "\n",
    "# Решаем задачу\n",
    "model.solve()\n",
    "\n",
    "# Выводим результаты\n",
    "for i in range(n):\n",
    "\tfor j in range(n):\n",
    "\t\tif x[(i, j)].value() == 1:\n",
    "\t\t\tprint(f\"Работник {chr(65 + i)} назначен на работу {j + 1}\")\n",
    "\n",
    "# Общие затраты\n",
    "print(\"Общие затраты:\", pulp.value(model.objective))"
   ],
   "metadata": {
    "collapsed": false,
    "pycharm": {
     "name": "#%%\n"
    }
   }
  },
  {
   "cell_type": "code",
   "execution_count": null,
   "outputs": [],
   "source": [],
   "metadata": {
    "collapsed": false,
    "pycharm": {
     "name": "#%%\n"
    }
   }
  }
 ],
 "metadata": {
  "kernelspec": {
   "display_name": "Python 3",
   "language": "python",
   "name": "python3"
  },
  "language_info": {
   "codemirror_mode": {
    "name": "ipython",
    "version": 2
   },
   "file_extension": ".py",
   "mimetype": "text/x-python",
   "name": "python",
   "nbconvert_exporter": "python",
   "pygments_lexer": "ipython2",
   "version": "2.7.6"
  }
 },
 "nbformat": 4,
 "nbformat_minor": 0
}