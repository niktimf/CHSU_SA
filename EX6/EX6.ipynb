{
 "cells": [
  {
   "cell_type": "markdown",
   "source": [
    "# Практическое занятие 6\n",
    "## Вариант 11"
   ],
   "metadata": {
    "collapsed": false,
    "pycharm": {
     "name": "#%% md\n"
    }
   }
  },
  {
   "cell_type": "markdown",
   "source": [
    "### Задание 2"
   ],
   "metadata": {
    "collapsed": false,
    "pycharm": {
     "name": "#%% md\n"
    }
   }
  },
  {
   "cell_type": "markdown",
   "source": [
    "**Задача о назначениях** с пятью исследователями и четырьмя проектами не поддается решению с помощью **графического метода**, так как это задача **линейного программирования с более чем двумя переменными**. Графический метод применим только к задачам с **двумя переменными**, где решения могут быть представлены на **двумерной плоскости**.\n",
    "\n"
   ],
   "metadata": {
    "collapsed": false,
    "pycharm": {
     "name": "#%% md\n"
    }
   }
  },
  {
   "cell_type": "markdown",
   "source": [
    "### Задание 3\n",
    "\n",
    "![](61.png)"
   ],
   "metadata": {
    "collapsed": false,
    "pycharm": {
     "name": "#%% md\n"
    }
   }
  },
  {
   "cell_type": "code",
   "execution_count": 1,
   "outputs": [
    {
     "data": {
      "text/plain": "(Index(['Иване', 'Дай', 'Браун', 'Адаме'], dtype='object'),\n 324,\n array([ 64, 108,  48, 104], dtype=int64))"
     },
     "execution_count": 1,
     "metadata": {},
     "output_type": "execute_result"
    }
   ],
   "source": [
    "import pandas as pd\n",
    "from scipy.optimize import linear_sum_assignment\n",
    "\n",
    "# Данные из таблицы\n",
    "data = {\n",
    "\t'Адаме': [80, 120, 60, 104],\n",
    "\t'Браун': [72, 144, 48, 110],\n",
    "\t'Карр': [96, 148, 72, 120],\n",
    "\t'Дай': [60, 108, 52, 92],\n",
    "\t'Иване': [64, 140, 60, 96]\n",
    "}\n",
    "\n",
    "# Создание DataFrame\n",
    "df = pd.DataFrame(data)\n",
    "\n",
    "# Применение венгерского метода\n",
    "row_ind, col_ind = linear_sum_assignment(df)\n",
    "\n",
    "# Вывод результатов\n",
    "assignment = df.columns[col_ind]\n",
    "total_days = df.values[row_ind, col_ind].sum()\n",
    "assigned_days = df.values[row_ind, col_ind]\n",
    "\n",
    "assignment, total_days, assigned_days\n"
   ],
   "metadata": {
    "collapsed": false,
    "pycharm": {
     "name": "#%%\n"
    }
   }
  },
  {
   "cell_type": "markdown",
   "source": [
    "#### Вывод\n",
    "\n",
    "---\n",
    "\n",
    "**Оптимальное распределение научных руководителей по проектам:**\n",
    "\n",
    "- **Иване** - Проект 1 _(64 дня)_\n",
    "- **Дай** - Проект 2 _(108 дней)_\n",
    "- **Браун** - Проект 3 _(48 дней)_\n",
    "- **Адаме** - Проект 4 _(104 дня)_\n",
    "\n",
    "**Общее время**, необходимое для завершения всех четырех проектов, составляет **324 дня**.\n",
    "\n",
    "---\n",
    "\n",
    "##### Предпочтения Ученых и Назначения\n",
    "\n",
    "- Ученые **Браун**, **Карр** и **Дай** предпочитают проекты 2 и 3.\n",
    "  - **Браун** назначен на проект 3, что соответствует его предпочтениям.\n",
    "  - **Дай** назначен на проект 2, что также соответствует его предпочтениям.\n",
    "\n",
    "- Ученые **Адаме** и **Иване** предпочитают проекты 1 и 4.\n",
    "  - **Адаме** назначен на проект 4, что соответствует его предпочтениям.\n",
    "  - **Иване** назначен на проект 1, что также соответствует его предпочтениям.\n",
    "\n",
    "---\n",
    "\n",
    "**Вывод**: Данный вариант распределения ученых является оптимальным как с точки зрения минимизации времени, так и с учетом предпочтений ученых.\n"
   ],
   "metadata": {
    "collapsed": false,
    "pycharm": {
     "name": "#%% md\n"
    }
   }
  },
  {
   "cell_type": "markdown",
   "source": [
    "### Задание 4"
   ],
   "metadata": {
    "collapsed": false,
    "pycharm": {
     "name": "#%% md\n"
    }
   }
  },
  {
   "cell_type": "code",
   "execution_count": 4,
   "outputs": [
    {
     "data": {
      "text/plain": "<Figure size 1000x600 with 1 Axes>",
      "image/png": "[encoded data removed]"
     },
     "metadata": {},
     "output_type": "display_data"
    },
    {
     "data": {
      "text/plain": "([(0, 3), (1, 2), (3, 1), (4, 0)], 324)"
     },
     "execution_count": 4,
     "metadata": {},
     "output_type": "execute_result"
    }
   ],
   "source": [
    "import numpy as np\n",
    "from scipy.optimize import linear_sum_assignment\n",
    "import matplotlib.pyplot as plt\n",
    "import seaborn as sns\n",
    "\n",
    "# Матрица времени, требуемого каждым исследователем для каждого проекта\n",
    "time_matrix = np.array([\n",
    "\t[80, 120, 60, 104],  # Адаме\n",
    "\t[72, 144, 48, 110],  # Браун\n",
    "\t[96, 148, 72, 120],  # Карр\n",
    "\t[60, 108, 52, 92],   # Дай\n",
    "\t[64, 140, 60, 96]    # Иване\n",
    "])\n",
    "\n",
    "# Решение задачи о назначении (минимизация общего времени)\n",
    "row_ind, col_ind = linear_sum_assignment(time_matrix)\n",
    "\n",
    "# Результаты: назначения и общее время\n",
    "assignments = list(zip(row_ind, col_ind))\n",
    "total_time = time_matrix[row_ind, col_ind].sum()\n",
    "\n",
    "assignment_matrix = np.zeros_like(time_matrix)\n",
    "\n",
    "# Теперь установим 1 в ячейках, соответствующих оптимальным назначениям\n",
    "for researcher, project in assignments:\n",
    "\tassignment_matrix[researcher, project] = 1\n",
    "\n",
    "# Теперь визуализируем матрицу назначений\n",
    "plt.figure(figsize=(10, 6))\n",
    "sns.heatmap(assignment_matrix, annot=True, fmt=\"d\", cmap=\"Blues\", cbar=False, xticklabels=[f\"Проект {i+1}\" for i in range(4)], yticklabels=[\"Адаме\", \"Браун\", \"Карр\", \"Дай\", \"Иване\"])\n",
    "plt.title(f\"Матрица назначений проектов (Общее время: {total_time} дней)\")\n",
    "plt.xlabel(\"Проекты\")\n",
    "plt.ylabel(\"Исследователи\")\n",
    "plt.show()\n",
    "\n",
    "assignments, total_time\n"
   ],
   "metadata": {
    "collapsed": false,
    "pycharm": {
     "name": "#%%\n"
    }
   }
  },
  {
   "cell_type": "markdown",
   "source": [
    "**Результат аналогичный прошлому методу**\n",
    "\n",
    "\n",
    "#### Оптимальное Назначение Научных Руководителей Проектов\n",
    "\n",
    "Из полученного решения видно, что:\n",
    "\n",
    "- **Адаме** (предпочитает проекты 1 и 4) назначен на **проект 4**, что соответствует его предпочтениям.\n",
    "- **Браун** (предпочитает проекты 2 и 3) назначен на **проект 3**, что также соответствует его предпочтениям.\n",
    "- **Дай** (предпочитает проекты 2 и 3) назначен на **проект 2**, что удовлетворяет его предпочтениям.\n",
    "- **Иване** (предпочитает проекты 1 и 4) назначен на **проект 1**, что соответствует его предпочтениям.\n",
    "\n",
    "Общее время, необходимое для завершения всех проектов при этом назначении, составляет **324 дня**.\n",
    "\n",
    "Таким образом, данный вариант назначения является не только оптимальным с точки зрения минимизации времени, но и учитывает предпочтения исследователей.\n"
   ],
   "metadata": {
    "collapsed": false,
    "pycharm": {
     "name": "#%% md\n"
    }
   }
  },
  {
   "cell_type": "markdown",
   "source": [
    "### Задание 3, 4\n",
    "\n",
    "![](62.png)"
   ],
   "metadata": {
    "collapsed": false,
    "pycharm": {
     "name": "#%% md\n"
    }
   }
  },
  {
   "cell_type": "code",
   "execution_count": 19,
   "outputs": [
    {
     "name": "stdout",
     "output_type": "stream",
     "text": [
      "Общий спрос: 900, общее предложение: 600\n"
     ]
    }
   ],
   "source": [
    "import numpy as np\n",
    "\n",
    "# Исходные данные\n",
    "cost_matrix = np.array([\n",
    "\t[6, 4, 4, 5],\n",
    "\t[6, 9, 5, 8],\n",
    "\t[8, 2, 10, 6]\n",
    "])\n",
    "supply = np.array([200, 300, 100])\n",
    "demand = np.array([450, 250, 100, 100])\n",
    "\n",
    "# Расчет общего предложения и спроса\n",
    "total_supply = np.sum(supply)\n",
    "total_demand = np.sum(demand)\n",
    "\n",
    "print(f'Общий спрос: {total_demand}, общее предложение: {total_supply}')"
   ],
   "metadata": {
    "collapsed": false,
    "pycharm": {
     "name": "#%%\n"
    }
   }
  },
  {
   "cell_type": "markdown",
   "source": [
    "#### Анализ спроса и предложения\n",
    "\n",
    "- Общее предложение (мощность поставщиков): **600**\n",
    "- Общий спрос (потребность потребителей): **900**\n",
    "\n",
    "**Необходим фиктивный поставщик, так как спрос больше предложения.**"
   ],
   "metadata": {
    "collapsed": false,
    "pycharm": {
     "name": "#%% md\n"
    }
   }
  },
  {
   "cell_type": "code",
   "execution_count": 21,
   "outputs": [
    {
     "data": {
      "text/plain": "(16, [(0, 2), (2, 1), (3, 0), (4, 3)])"
     },
     "execution_count": 21,
     "metadata": {},
     "output_type": "execute_result"
    }
   ],
   "source": [
    "import numpy as np\n",
    "from scipy.optimize import linear_sum_assignment\n",
    "\n",
    "# Исходные данные\n",
    "cost_matrix = np.array([\n",
    "\t[6, 4, 4, 5],\n",
    "\t[6, 9, 5, 8],\n",
    "\t[8, 2, 10, 6]\n",
    "])\n",
    "supply = np.array([200, 300, 100])\n",
    "demand = np.array([450, 250, 100, 100])\n",
    "\n",
    "# Выбор стоимости для фиктивного поставщика\n",
    "dummy_cost = 5\n",
    "\n",
    "# Проверка необходимости добавления фиктивного поставщика\n",
    "if total_demand > total_supply:\n",
    "\t# Добавление фиктивного поставщика\n",
    "\tdummy_rows = np.full((total_demand - total_supply, cost_matrix.shape[1]), dummy_cost)\n",
    "\textended_cost_matrix = np.vstack((cost_matrix, dummy_rows))\n",
    "\textended_supply = np.append(supply, total_demand - total_supply)\n",
    "else:\n",
    "\textended_cost_matrix = cost_matrix\n",
    "\textended_supply = supply\n",
    "\n",
    "# Решение задачи\n",
    "row_ind, col_ind = linear_sum_assignment(extended_cost_matrix)\n",
    "\n",
    "# Оптимальная стоимость и распределение\n",
    "optimal_cost = extended_cost_matrix[row_ind, col_ind].sum()\n",
    "assignments = list(zip(row_ind, col_ind))\n",
    "\n",
    "# Вывод результатов\n",
    "optimal_cost, assignments\n",
    "\n"
   ],
   "metadata": {
    "collapsed": false,
    "pycharm": {
     "name": "#%%\n"
    }
   }
  },
  {
   "cell_type": "markdown",
   "source": [
    "#### Результаты Решения Транспортной Задачи\n",
    "\n",
    "**Оптимальная Стоимость:** 16 единиц\n",
    "\n",
    "#### Распределение Ресурсов:\n",
    "1. **Поставщик 1** -> **Потребитель 3**\n",
    "2. **Поставщик 3** -> **Потребитель 2**\n",
    "3. **Фиктивный Поставщик** -> **Потребитель 1** (Спрос Потребителя 1 не полностью удовлетворён)\n",
    "4. **Фиктивный Поставщик** -> **Потребитель 4** (Спрос Потребителя 4 не полностью удовлетворён)\n",
    "\n",
    "Эти результаты показывают оптимальное распределение доступных ресурсов между потребителями для минимизации общей стоимости перевозок, учитывая ограничения по спросу и предложению. Фиктивные поставщики включены в распределение для балансировки задачи, когда спрос превышает предложение."
   ],
   "metadata": {
    "collapsed": false,
    "pycharm": {
     "name": "#%% md\n"
    }
   }
  }
 ],
 "metadata": {
  "kernelspec": {
   "display_name": "Python 3",
   "language": "python",
   "name": "python3"
  },
  "language_info": {
   "codemirror_mode": {
    "name": "ipython",
    "version": 2
   },
   "file_extension": ".py",
   "mimetype": "text/x-python",
   "name": "python",
   "nbconvert_exporter": "python",
   "pygments_lexer": "ipython2",
   "version": "2.7.6"
  }
 },
 "nbformat": 4,
 "nbformat_minor": 0
}