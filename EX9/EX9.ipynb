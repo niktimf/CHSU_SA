{
 "cells": [
  {
   "cell_type": "markdown",
   "source": [
    "# Практическое занятие 8\n",
    "\n",
    "## Вариант 11"
   ],
   "metadata": {
    "collapsed": false,
    "pycharm": {
     "name": "#%% md\n"
    }
   },
   "execution_count": 0
  },
  {
   "cell_type": "code",
   "execution_count": 6,
   "outputs": [
    {
     "data": {
      "text/plain": "                         Инфраструктура  Расположение      Цена   Площадь  \\\nИнфраструктура                        1           0.5  0.333333  0.333333   \nРасположение                          2           1.0  0.333333  0.250000   \nЦена                                  3           3.0  1.000000  0.500000   \nПлощадь                               3           4.0  2.000000  1.000000   \nКачество ремонта                      4           5.0  2.000000  1.000000   \nБлизость к общ. трансп.               5           6.0  7.000000  8.000000   \n\n                         Качество ремонта  Близость к общ. трансп.  \nИнфраструктура                       0.25                 0.200000  \nРасположение                         0.20                 0.166667  \nЦена                                 0.50                 0.142857  \nПлощадь                              1.00                 0.125000  \nКачество ремонта                     1.00                 0.250000  \nБлизость к общ. трансп.              4.00                 1.000000  ",
      "text/html": "<div>\n<style scoped>\n    .dataframe tbody tr th:only-of-type {\n        vertical-align: middle;\n    }\n\n    .dataframe tbody tr th {\n        vertical-align: top;\n    }\n\n    .dataframe thead th {\n        text-align: right;\n    }\n</style>\n<table border=\"1\" class=\"dataframe\">\n  <thead>\n    <tr style=\"text-align: right;\">\n      <th></th>\n      <th>Инфраструктура</th>\n      <th>Расположение</th>\n      <th>Цена</th>\n      <th>Площадь</th>\n      <th>Качество ремонта</th>\n      <th>Близость к общ. трансп.</th>\n    </tr>\n  </thead>\n  <tbody>\n    <tr>\n      <th>Инфраструктура</th>\n      <td>1</td>\n      <td>0.5</td>\n      <td>0.333333</td>\n      <td>0.333333</td>\n      <td>0.25</td>\n      <td>0.200000</td>\n    </tr>\n    <tr>\n      <th>Расположение</th>\n      <td>2</td>\n      <td>1.0</td>\n      <td>0.333333</td>\n      <td>0.250000</td>\n      <td>0.20</td>\n      <td>0.166667</td>\n    </tr>\n    <tr>\n      <th>Цена</th>\n      <td>3</td>\n      <td>3.0</td>\n      <td>1.000000</td>\n      <td>0.500000</td>\n      <td>0.50</td>\n      <td>0.142857</td>\n    </tr>\n    <tr>\n      <th>Площадь</th>\n      <td>3</td>\n      <td>4.0</td>\n      <td>2.000000</td>\n      <td>1.000000</td>\n      <td>1.00</td>\n      <td>0.125000</td>\n    </tr>\n    <tr>\n      <th>Качество ремонта</th>\n      <td>4</td>\n      <td>5.0</td>\n      <td>2.000000</td>\n      <td>1.000000</td>\n      <td>1.00</td>\n      <td>0.250000</td>\n    </tr>\n    <tr>\n      <th>Близость к общ. трансп.</th>\n      <td>5</td>\n      <td>6.0</td>\n      <td>7.000000</td>\n      <td>8.000000</td>\n      <td>4.00</td>\n      <td>1.000000</td>\n    </tr>\n  </tbody>\n</table>\n</div>"
     },
     "execution_count": 6,
     "metadata": {},
     "output_type": "execute_result"
    }
   ],
   "source": [
    "import pandas as pd\n",
    "\n",
    "class AHPCriteriaMatrix:\n",
    "\t\"\"\"\n",
    "\n",
    "\t\"\"\"\n",
    "\tdef __init__(self, a, b, c, d, e, f, g, h, i, j, k, l, m, n, o):\n",
    "\t\tself.matrix = pd.DataFrame({\n",
    "\t\t\t'Инфраструктура': [1, a, b, c, d, e],\n",
    "\t\t\t'Расположение': [1/a, 1, f, g, h, i],\n",
    "\t\t\t'Цена': [1/b, 1/f, 1, j, k, l],\n",
    "\t\t\t'Площадь': [1/c, 1/g, 1/j, 1, m, n],\n",
    "\t\t\t'Качество ремонта': [1/d, 1/h, 1/k, 1/m, 1, o],\n",
    "\t\t\t'Близость к общ. трансп.': [1/e, 1/i, 1/l, 1/n, 1/o, 1]\n",
    "\t\t}, index=['Инфраструктура', 'Расположение', 'Цена', 'Площадь', 'Качество ремонта', 'Близость к общ. трансп.'])\n",
    "\n",
    "\tdef get_initial_matrix(self):\n",
    "\t\t\"\"\"\n",
    "\n",
    "\t\t:return:\n",
    "\t\t\"\"\"\n",
    "\t\treturn self.matrix\n",
    "\n",
    "# Пример использования класса\n",
    "# Значения a, b, c, ..., o должны быть определены заранее\n",
    "a, b, c, d, e, f, g, h, i, j, k, l, m, n, o = 2, 3, 3, 4, 5, 3, 4, 5, 6, 2, 2, 7, 1, 8, 4\n",
    "\n",
    "ahp_matrix = AHPCriteriaMatrix(a, b, c, d, e, f, g, h, i, j, k, l, m, n, o)\n",
    "\n",
    "matrix_df = ahp_matrix.get_initial_matrix()\n",
    "matrix_df"
   ],
   "metadata": {
    "collapsed": false,
    "pycharm": {
     "name": "#%%\n"
    }
   }
  },
  {
   "cell_type": "code",
   "execution_count": null,
   "outputs": [],
   "source": [],
   "metadata": {
    "collapsed": false,
    "pycharm": {
     "name": "#%%\n"
    }
   }
  },
  {
   "cell_type": "code",
   "execution_count": null,
   "outputs": [],
   "source": [],
   "metadata": {
    "collapsed": false,
    "pycharm": {
     "name": "#%%\n"
    }
   }
  },
  {
   "cell_type": "code",
   "execution_count": null,
   "outputs": [],
   "source": [],
   "metadata": {
    "collapsed": false,
    "pycharm": {
     "name": "#%%\n"
    }
   }
  },
  {
   "cell_type": "code",
   "execution_count": null,
   "outputs": [],
   "source": [],
   "metadata": {
    "collapsed": false,
    "pycharm": {
     "name": "#%%\n"
    }
   }
  },
  {
   "cell_type": "code",
   "execution_count": null,
   "outputs": [],
   "source": [],
   "metadata": {
    "collapsed": false,
    "pycharm": {
     "name": "#%%\n"
    }
   }
  },
  {
   "cell_type": "code",
   "execution_count": null,
   "outputs": [],
   "source": [],
   "metadata": {
    "collapsed": false,
    "pycharm": {
     "name": "#%%\n"
    }
   }
  },
  {
   "cell_type": "code",
   "execution_count": null,
   "outputs": [],
   "source": [],
   "metadata": {
    "collapsed": false,
    "pycharm": {
     "name": "#%%\n"
    }
   }
  },
  {
   "cell_type": "code",
   "execution_count": null,
   "outputs": [],
   "source": [],
   "metadata": {
    "collapsed": false,
    "pycharm": {
     "name": "#%%\n"
    }
   }
  },
  {
   "cell_type": "code",
   "execution_count": null,
   "outputs": [],
   "source": [],
   "metadata": {
    "collapsed": false,
    "pycharm": {
     "name": "#%%\n"
    }
   }
  },
  {
   "cell_type": "code",
   "execution_count": null,
   "outputs": [],
   "source": [],
   "metadata": {
    "collapsed": false,
    "pycharm": {
     "name": "#%%\n"
    }
   }
  }
 ],
 "metadata": {
  "kernelspec": {
   "display_name": "Python 3",
   "language": "python",
   "name": "python3"
  },
  "language_info": {
   "codemirror_mode": {
    "name": "ipython",
    "version": 2
   },
   "file_extension": ".py",
   "mimetype": "text/x-python",
   "name": "python",
   "nbconvert_exporter": "python",
   "pygments_lexer": "ipython2",
   "version": "2.7.6"
  }
 },
 "nbformat": 4,
 "nbformat_minor": 0
}