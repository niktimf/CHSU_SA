{
 "cells": [
  {
   "cell_type": "markdown",
   "source": [
    "# Практическое занятие 8\n",
    "\n",
    "## Вариант 11"
   ],
   "metadata": {
    "collapsed": false,
    "pycharm": {
     "name": "#%% md\n"
    }
   },
   "execution_count": 0
  },
  {
   "cell_type": "code",
   "execution_count": 132,
   "outputs": [
    {
     "name": "stdout",
     "output_type": "stream",
     "text": [
      "Отношение согласованности: 7.149619507057804\n"
     ]
    },
    {
     "data": {
      "text/plain": "                         Инфраструктура  Расположение      Цена  Площадь  \\\nИнфраструктура                 1.000000      2.000000  3.000000    3.000   \nРасположение                   0.500000      1.000000  3.000000    4.000   \nЦена                           0.333333      0.333333  1.000000    2.000   \nПлощадь                        0.333333      0.250000  0.500000    1.000   \nКачество ремонта               0.250000      0.200000  0.500000    1.000   \nБлизость к общ. трансп.        0.200000      0.166667  0.142857    0.125   \n\n                         Качество ремонта  Близость к общ. трансп.  \\\nИнфраструктура                       4.00                        5   \nРасположение                         5.00                        6   \nЦена                                 2.00                        7   \nПлощадь                              1.00                        8   \nКачество ремонта                     1.00                        4   \nБлизость к общ. трансп.              0.25                        1   \n\n                         Оценка вектора приоритета  \\\nИнфраструктура                            3.000000   \nРасположение                              3.250000   \nЦена                                      2.111111   \nПлощадь                                   1.847222   \nКачество ремонта                          1.158333   \nБлизость к общ. трансп.                   0.314087   \n\n                         Нормализованные оценки вектора приоритета  \\\nИнфраструктура                                            0.256833   \nРасположение                                              0.278235   \nЦена                                                      0.180734   \nПлощадь                                                   0.158142   \nКачество ремонта                                          0.099166   \nБлизость к общ. трансп.                                   0.026889   \n\n                         Сумма по столбцам  \\\nИнфраструктура                    2.616667   \nРасположение                      3.950000   \nЦена                              8.142857   \nПлощадь                          11.125000   \nКачество ремонта                 13.250000   \nБлизость к общ. трансп.          31.000000   \n\n                         Умножение на нормализованные оценки  \nИнфраструктура                                      0.672046  \nРасположение                                        1.099030  \nЦена                                                1.471692  \nПлощадь                                             1.759334  \nКачество ремонта                                    1.313949  \nБлизость к общ. трансп.                             0.833568  ",
      "text/html": "<div>\n<style scoped>\n    .dataframe tbody tr th:only-of-type {\n        vertical-align: middle;\n    }\n\n    .dataframe tbody tr th {\n        vertical-align: top;\n    }\n\n    .dataframe thead th {\n        text-align: right;\n    }\n</style>\n<table border=\"1\" class=\"dataframe\">\n  <thead>\n    <tr style=\"text-align: right;\">\n      <th></th>\n      <th>Инфраструктура</th>\n      <th>Расположение</th>\n      <th>Цена</th>\n      <th>Площадь</th>\n      <th>Качество ремонта</th>\n      <th>Близость к общ. трансп.</th>\n      <th>Оценка вектора приоритета</th>\n      <th>Нормализованные оценки вектора приоритета</th>\n      <th>Сумма по столбцам</th>\n      <th>Умножение на нормализованные оценки</th>\n    </tr>\n  </thead>\n  <tbody>\n    <tr>\n      <th>Инфраструктура</th>\n      <td>1.000000</td>\n      <td>2.000000</td>\n      <td>3.000000</td>\n      <td>3.000</td>\n      <td>4.00</td>\n      <td>5</td>\n      <td>3.000000</td>\n      <td>0.256833</td>\n      <td>2.616667</td>\n      <td>0.672046</td>\n    </tr>\n    <tr>\n      <th>Расположение</th>\n      <td>0.500000</td>\n      <td>1.000000</td>\n      <td>3.000000</td>\n      <td>4.000</td>\n      <td>5.00</td>\n      <td>6</td>\n      <td>3.250000</td>\n      <td>0.278235</td>\n      <td>3.950000</td>\n      <td>1.099030</td>\n    </tr>\n    <tr>\n      <th>Цена</th>\n      <td>0.333333</td>\n      <td>0.333333</td>\n      <td>1.000000</td>\n      <td>2.000</td>\n      <td>2.00</td>\n      <td>7</td>\n      <td>2.111111</td>\n      <td>0.180734</td>\n      <td>8.142857</td>\n      <td>1.471692</td>\n    </tr>\n    <tr>\n      <th>Площадь</th>\n      <td>0.333333</td>\n      <td>0.250000</td>\n      <td>0.500000</td>\n      <td>1.000</td>\n      <td>1.00</td>\n      <td>8</td>\n      <td>1.847222</td>\n      <td>0.158142</td>\n      <td>11.125000</td>\n      <td>1.759334</td>\n    </tr>\n    <tr>\n      <th>Качество ремонта</th>\n      <td>0.250000</td>\n      <td>0.200000</td>\n      <td>0.500000</td>\n      <td>1.000</td>\n      <td>1.00</td>\n      <td>4</td>\n      <td>1.158333</td>\n      <td>0.099166</td>\n      <td>13.250000</td>\n      <td>1.313949</td>\n    </tr>\n    <tr>\n      <th>Близость к общ. трансп.</th>\n      <td>0.200000</td>\n      <td>0.166667</td>\n      <td>0.142857</td>\n      <td>0.125</td>\n      <td>0.25</td>\n      <td>1</td>\n      <td>0.314087</td>\n      <td>0.026889</td>\n      <td>31.000000</td>\n      <td>0.833568</td>\n    </tr>\n  </tbody>\n</table>\n</div>"
     },
     "execution_count": 132,
     "metadata": {},
     "output_type": "execute_result"
    }
   ],
   "source": [
    "class AHPCriteriaMatrix1:\n",
    "\tdef __init__(self, a, b, c, d, e, f, g, h, i, j, k, l, m, n, o):\n",
    "\t\tself.matrix = pd.DataFrame({\n",
    "\t\t\t'Инфраструктура': \t\t\t[1, 1 / a, 1 / b, 1 / c, 1 / d, 1 / e],\n",
    "\t\t\t'Расположение':   \t\t\t[a, 1, 1 / f, 1 / g, 1 / h, 1 / i],\n",
    "\t\t\t'Цена':           \t\t\t[b, f, 1, 1 / j, 1 / k, 1 / l],\n",
    "\t\t\t'Площадь': \t\t  \t\t\t[c, g, j, 1, 1 / m, 1 / n],\n",
    "\t\t\t'Качество ремонта': \t\t[d, h, k, m, 1, 1 / o],\n",
    "\t\t\t'Близость к общ. трансп.':  [e, i, l, n, o, 1]\n",
    "\t\t}, index=['Инфраструктура', 'Расположение', 'Цена', 'Площадь', 'Качество ремонта', 'Близость к общ. трансп.'])\n",
    "\n",
    "\tdef get_initial_matrix(self):\n",
    "\t\treturn self.matrix\n",
    "\n",
    "\tdef add_priority_vector(self):\n",
    "\t\tself.matrix['Оценка вектора приоритета'] = self.matrix.sum(axis=1) / len(self.matrix.columns)\n",
    "\n",
    "\tdef add_normalized_priority_vector(self):\n",
    "\t\ttotal_priority = self.matrix['Оценка вектора приоритета'].sum()\n",
    "\t\tself.matrix['Нормализованные оценки вектора приоритета'] = self.matrix['Оценка вектора приоритета'] / total_priority\n",
    "\n",
    "\tdef add_column_sum(self):\n",
    "\t\tself.matrix['Сумма по столбцам'] = self.matrix.iloc[:, :6].sum(axis=0)\n",
    "\n",
    "\tdef multiply_by_normalized_priority(self):\n",
    "\t\tself.matrix['Умножение на нормализованные оценки'] = self.matrix['Сумма по столбцам'] * self.matrix['Нормализованные оценки вектора приоритета']\n",
    "\n",
    "\tdef calculate_L_max(self):\n",
    "\t\treturn self.matrix[\"Умножение на нормализованные оценки\"].sum()\n",
    "\n",
    "\tdef calculate_consistency_index(self):\n",
    "\t\treturn (self.calculate_L_max() - len(self.matrix.index)) / (len(self.matrix.index) - 1)\n",
    "\n",
    "\tdef calculate_consistency_ratio(self):\n",
    "\t\treturn self.calculate_consistency_index() / 1.24\n",
    "\n",
    "# Пример использования класса\n",
    "a, b, c, d, e, f, g, h, i, j, k, l, m, n, o = 2, 3, 3, 4, 5, 3, 4, 5, 6, 2, 2, 7, 1, 8, 4\n",
    "ahp_matrix = AHPCriteriaMatrix1(a, b, c, d, e, f, g, h, i, j, k, l, m, n, o)\n",
    "\n",
    "# Добавление оценок вектора приоритета и нормализованных оценок\n",
    "ahp_matrix.add_priority_vector()\n",
    "ahp_matrix.add_normalized_priority_vector()\n",
    "ahp_matrix.add_column_sum()\n",
    "ahp_matrix.multiply_by_normalized_priority()\n",
    "L_max = ahp_matrix.calculate_L_max()\n",
    "ahp_matrix.calculate_consistency_index()\n",
    "ahp_matrix.calculate_consistency_ratio()\n",
    "\n",
    "print(f\"Отношение согласованности: {L_max}\")\n",
    "ahp_matrix = ahp_matrix.get_initial_matrix()\n",
    "ahp_matrix"
   ],
   "metadata": {
    "collapsed": false,
    "pycharm": {
     "name": "#%%\n"
    }
   }
  },
  {
   "cell_type": "code",
   "execution_count": 129,
   "outputs": [],
   "source": [
    "import pandas as pd\n",
    "import numpy as np\n",
    "\n",
    "class AHPCriteriaMatrix:\n",
    "\t\"\"\"\n",
    "\n",
    "\t\"\"\"\n",
    "\tdef __init__(self, apartments_names, criteria_comparisons):\n",
    "\t\tself.apartments_names = apartments_names\n",
    "\t\tself.criteria_comparisons = criteria_comparisons\n",
    "\t\tself.matrices = self._create_matrices()\n",
    "\n",
    "\tdef get_matrix(self, criterion):\n",
    "\t\treturn self.matrices.get(criterion, None)\n",
    "\n",
    "\tdef _create_matrices(self):\n",
    "\t\tmatrices = {}\n",
    "\t\tfor criterion, comparison_matrix in self.criteria_comparisons.items():\n",
    "\t\t\tmatrix_data = {}\n",
    "\t\t\tfor i, apartment_row in enumerate(self.apartments_names):\n",
    "\t\t\t\trow_data = []\n",
    "\t\t\t\tfor j, apartment_col in enumerate(self.apartments_names):\n",
    "\t\t\t\t\trow_data.append(comparison_matrix[i][j])\n",
    "\t\t\t\tmatrix_data[apartment_row] = row_data\n",
    "\t\t\tmatrices[criterion] = pd.DataFrame(matrix_data, index=self.apartments_names, columns=self.apartments_names)\n",
    "\t\treturn matrices\n",
    "\n",
    "\tdef add_priority_vector(self):\n",
    "\t\t\"\"\"\n",
    "\n",
    "\t\t:return:\n",
    "\t\t\"\"\"\n",
    "\t\tfor matrix in self.matrices.values():\n",
    "\t\t\tmatrix['Оценка вектора приоритета'] = matrix.apply(lambda row: np.prod(row) ** (1 / len(row)), axis=1)\n",
    "\n",
    "\tdef normalize_priority_vector(self):\n",
    "\t\t\"\"\"\n",
    "\n",
    "\t\t:return:\n",
    "\t\t\"\"\"\n",
    "\t\tfor matrix in self.matrices.values():\n",
    "\t\t\ttotal_priority = matrix['Оценка вектора приоритета'].sum()\n",
    "\t\t\tmatrix['Нормализованные оценки вектора приоритета'] = matrix['Оценка вектора приоритета'] / total_priority\n",
    "\n",
    "\tdef calculate_column_sums(self):\n",
    "\t\t\"\"\"\n",
    "\n",
    "\t\t:return:\n",
    "\t\t\"\"\"\n",
    "\t\tfor matrix in self.matrices.values():\n",
    "\t\t\tmatrix['Сумма по столбцам'] = matrix.sum(axis=0)\n",
    "\n",
    "\tdef calculate_L_max(self):\n",
    "\t\t\"\"\"\n",
    "\n",
    "\t\t:return:\n",
    "\t\t\"\"\"\n",
    "\t\tL_max_values = {}\n",
    "\t\tfor criterion, matrix in self.matrices.items():\n",
    "\t\t\tmatrix['Умножение на нормализованные оценки'] = matrix['Сумма по столбцам'] * matrix['Нормализованные оценки вектора приоритета']\n",
    "\t\t\tL_max = matrix['Умножение на нормализованные оценки'].sum()\n",
    "\t\t\tL_max_values[criterion] = L_max\n",
    "\t\treturn L_max_values\n",
    "\n",
    "\tdef calculate_consistency_index(self, L_max_values):\n",
    "\t\t\"\"\"\n",
    "\n",
    "\t\t:param L_max_values:\n",
    "\t\t:return:\n",
    "\t\t\"\"\"\n",
    "\t\tCI_values = {}\n",
    "\t\tfor criterion, L_max in L_max_values.items():\n",
    "\t\t\tn = len(self.matrices[criterion].columns) - 4\n",
    "\t\t\tCI = (L_max - n) / (n - 1)\n",
    "\t\t\tCI_values[criterion] = CI\n",
    "\t\treturn CI_values\n",
    "\n",
    "\tdef calculate_consistency_ratio(self, CI_values):\n",
    "\t\t\"\"\"\n",
    "\n",
    "\t\t:param CI_values:\n",
    "\t\t:return:\n",
    "\t\t\"\"\"\n",
    "\t\tRI_values = {6: 1.24, 5: 1.12, 4: 0.90, 3: 0.58, 2: 0.00}\n",
    "\t\tCR_values = {}\n",
    "\t\tfor criterion, CI in CI_values.items():\n",
    "\t\t\tn = len(self.matrices[criterion].columns) - 4\n",
    "\t\t\tRI = RI_values[n]\n",
    "\t\t\tCR = CI / RI * 100\n",
    "\t\t\tCR_values[criterion] = CR\n",
    "\t\treturn CR_values\n",
    "\n"
   ],
   "metadata": {
    "collapsed": false,
    "pycharm": {
     "name": "#%%\n"
    }
   }
  },
  {
   "cell_type": "code",
   "execution_count": 130,
   "outputs": [],
   "source": [
    "\n",
    "# Значения для парных сравнений по каждому критерию\n",
    "# Инфраструктура\n",
    "a0, b0, c0, d0, e0, f0, g0, h0, i0, j0, k0, l0, m0, n0, o0 = 2, 3, 3, 4, 5, 6, 6, 6, 5, 3, 4, 1, 2, 1, 1\n",
    "\n",
    "\n",
    "# Расположение\n",
    "a1, b1, c1, d1, e1, f1, g1, h1, i1, j1, k1, l1, m1, n1, o1 = 2, 3, 6, 6, 6, 5, 7, 6, 7, 4, 6, 7, 2, 2, 1\n",
    "\n",
    "\n",
    "# Цена\n",
    "a2, b2, c2, d2, e2, f2, g2, h2, i2, j2, k2, l2, m2, n2, o2 = 1, 2, 3, 6, 4, 4, 6, 6, 2, 2, 4, 4, 5, 3, 2\n",
    "\n",
    "\n",
    "# Площадь\n",
    "a3, b3, c3, d3, e3, f3, g3, h3, i3, j3, k3, l3, m3, n3, o3 = 1, 2, 4, 5, 5, 5, 9, 9, 9, 7, 6, 4, 3, 4, 2\n",
    "\n",
    "\n",
    "# Качество ремонта\n",
    "a4, b4, c4, d4, e4, f4, g4, h4, i4, j4, k4, l4, m4, n4, o4 = 1, 2, 3, 4, 5, 6, 6, 6, 7, 7, 5, 4, 2, 1, 1\n",
    "\n",
    "\n",
    "# Близость к общественному транспорту\n",
    "a5, b5, c5, d5, e5, f5, g5, h5, i5, j5, k5, l5, m5, n5, o5 = 1, 2, 3, 4, 6, 9, 7, 7, 7, 3, 2, 3, 3, 2, 2\n",
    "\n",
    "\n",
    "# Создание словаря для парных сравнений каждого критерия\n",
    "criteria_comparisons = {\n",
    "\t'Инфраструктура': [\n",
    "\t\t[1, 1/a0, 1/b0, 1/c0, 1/d0, 1/e0],\n",
    "\t\t[a0, 1, 1/f0, 1/g0, 1/h0, 1/i0],\n",
    "\t\t[b0, f0, 1, 1/j0, 1/k0, 1/l0],\n",
    "\t\t[c0, g0, j0, 1, 1/m0, 1/n0],\n",
    "\t\t[d0, h0, k0, m0, 1, 1/o0],\n",
    "\t\t[e0, i0, l0, n0, o0, 1]\n",
    "\t],\n",
    "\t'Расположение': [\n",
    "\t\t[1, 1/a1, 1/b1, 1/c1, 1/d1, 1/e1],\n",
    "\t\t[a1, 1, 1/f1, 1/g1, 1/h1, 1/i1],\n",
    "\t\t[b1, f1, 1, 1/j1, 1/k1, 1/l1],\n",
    "\t\t[c1, g1, j1, 1, 1/m1, 1/n1],\n",
    "\t\t[d1, h1, k1, m1, 1, 1/o1],\n",
    "\t\t[e1, i1, l1, n1, o1, 1]\n",
    "\t],\n",
    "\t'Цена': [\n",
    "\t\t[1, 1/a2, 1/b2, 1/c2, 1/d2, 1/e2],\n",
    "\t\t[a2, 1, 1/f2, 1/g2, 1/h2, 1/i2],\n",
    "\t\t[b2, f2, 1, 1/j2, 1/k2, 1/l2],\n",
    "\t\t[c2, g2, j2, 1, 1/m2, 1/n2],\n",
    "\t\t[d2, h2, k2, m2, 1, 1/o2],\n",
    "\t\t[e2, i2, l2, n2, o2, 1]\n",
    "\t],\n",
    "\t'Площадь': [\n",
    "\t\t[1, 1/a3, 1/b3, 1/c3, 1/d3, 1/e3],\n",
    "\t\t[a3, 1, 1/f3, 1/g3, 1/h3, 1/i3],\n",
    "\t\t[b3, f3, 1, 1/j3, 1/k3, 1/l3],\n",
    "\t\t[c3, g3, j3, 1, 1/m3, 1/n3],\n",
    "\t\t[d3, h3, k3, m3, 1, 1/o3],\n",
    "\t\t[e3, i3, l3, n3, o3, 1]\n",
    "\t],\n",
    "\t'Качество ремонта': [\n",
    "\t\t[1, 1/a4, 1/b4, 1/c4, 1/d4, 1/e4],\n",
    "\t\t[a4, 1, 1/f4, 1/g4, 1/h4, 1/i4],\n",
    "\t\t[b4, f4, 1, 1/j4, 1/k4, 1/l4],\n",
    "\t\t[c4, g4, j4, 1, 1/m4, 1/n4],\n",
    "\t\t[d4, h4, k4, m4, 1, 1/o4],\n",
    "\t\t[e4, i4, l4, n4, o4, 1]\n",
    "\t],\n",
    "\t'Близость к общественному транспорту': [\n",
    "\t\t[1, 1/a5, 1/b5, 1/c5, 1/d5, 1/e5],\n",
    "\t\t[a5, 1, 1/f5, 1/g5, 1/h5, 1/i5],\n",
    "\t\t[b5, f5, 1, 1/j5, 1/k5, 1/l5],\n",
    "\t\t[c5, g5, j5, 1, 1/m5, 1/n5],\n",
    "\t\t[d5, h5, k5, m5, 1, 1/o5],\n",
    "\t\t[e5, i5, l5, n5, o5, 1]\n",
    "\t]\n",
    "}\n",
    "\n",
    "\n",
    "# Имена квартир (альтернатив)\n",
    "apartments_names = ['Квартира1', 'Квартира2', 'Квартира3', 'Квартира4', 'Квартира5', 'Квартира6']\n",
    "\n",
    "# Создание объекта класса\n",
    "ahp_matrices = AHPCriteriaMatrix(apartments_names, criteria_comparisons)\n",
    "ahp_matrices.add_priority_vector()\n",
    "ahp_matrices.normalize_priority_vector()\n",
    "ahp_matrices.calculate_column_sums()\n",
    "L_max_values = ahp_matrices.calculate_L_max()\n",
    "CI_values = ahp_matrices.calculate_consistency_index(L_max_values)\n",
    "CR_values = ahp_matrices.calculate_consistency_ratio(CI_values)"
   ],
   "metadata": {
    "collapsed": false,
    "pycharm": {
     "name": "#%%\n"
    }
   }
  },
  {
   "cell_type": "markdown",
   "source": [
    "### Инфраструктура"
   ],
   "metadata": {
    "collapsed": false,
    "pycharm": {
     "name": "#%% md\n"
    }
   }
  },
  {
   "cell_type": "code",
   "execution_count": 131,
   "outputs": [
    {
     "name": "stdout",
     "output_type": "stream",
     "text": [
      "Отношение согласованности: 8.45846882093425\n"
     ]
    },
    {
     "data": {
      "text/plain": "           Квартира1  Квартира2  Квартира3  Квартира4  Квартира5  Квартира6  \\\nКвартира1   1.000000   2.000000   3.000000        3.0        4.0          5   \nКвартира2   0.500000   1.000000   6.000000        6.0        6.0          5   \nКвартира3   0.333333   0.166667   1.000000        3.0        4.0          1   \nКвартира4   0.333333   0.166667   0.333333        1.0        2.0          1   \nКвартира5   0.250000   0.166667   0.250000        0.5        1.0          1   \nКвартира6   0.200000   0.200000   1.000000        1.0        1.0          1   \n\n           Оценка вектора приоритета  \\\nКвартира1                   2.667168   \nКвартира2                   2.853639   \nКвартира3                   0.934655   \nКвартира4                   0.577350   \nКвартира5                   0.416342   \nКвартира6                   0.584804   \n\n           Нормализованные оценки вектора приоритета  Сумма по столбцам  \\\nКвартира1                                   0.331987           2.616667   \nКвартира2                                   0.355197           3.700000   \nКвартира3                                   0.116338          11.583333   \nКвартира4                                   0.071864          14.500000   \nКвартира5                                   0.051823          18.000000   \nКвартира6                                   0.072791          14.000000   \n\n           Умножение на нормализованные оценки  \nКвартира1                             0.868699  \nКвартира2                             1.314229  \nКвартира3                             1.347583  \nКвартира4                             1.042024  \nКвартира5                             0.932809  \nКвартира6                             1.019081  ",
      "text/html": "<div>\n<style scoped>\n    .dataframe tbody tr th:only-of-type {\n        vertical-align: middle;\n    }\n\n    .dataframe tbody tr th {\n        vertical-align: top;\n    }\n\n    .dataframe thead th {\n        text-align: right;\n    }\n</style>\n<table border=\"1\" class=\"dataframe\">\n  <thead>\n    <tr style=\"text-align: right;\">\n      <th></th>\n      <th>Квартира1</th>\n      <th>Квартира2</th>\n      <th>Квартира3</th>\n      <th>Квартира4</th>\n      <th>Квартира5</th>\n      <th>Квартира6</th>\n      <th>Оценка вектора приоритета</th>\n      <th>Нормализованные оценки вектора приоритета</th>\n      <th>Сумма по столбцам</th>\n      <th>Умножение на нормализованные оценки</th>\n    </tr>\n  </thead>\n  <tbody>\n    <tr>\n      <th>Квартира1</th>\n      <td>1.000000</td>\n      <td>2.000000</td>\n      <td>3.000000</td>\n      <td>3.0</td>\n      <td>4.0</td>\n      <td>5</td>\n      <td>2.667168</td>\n      <td>0.331987</td>\n      <td>2.616667</td>\n      <td>0.868699</td>\n    </tr>\n    <tr>\n      <th>Квартира2</th>\n      <td>0.500000</td>\n      <td>1.000000</td>\n      <td>6.000000</td>\n      <td>6.0</td>\n      <td>6.0</td>\n      <td>5</td>\n      <td>2.853639</td>\n      <td>0.355197</td>\n      <td>3.700000</td>\n      <td>1.314229</td>\n    </tr>\n    <tr>\n      <th>Квартира3</th>\n      <td>0.333333</td>\n      <td>0.166667</td>\n      <td>1.000000</td>\n      <td>3.0</td>\n      <td>4.0</td>\n      <td>1</td>\n      <td>0.934655</td>\n      <td>0.116338</td>\n      <td>11.583333</td>\n      <td>1.347583</td>\n    </tr>\n    <tr>\n      <th>Квартира4</th>\n      <td>0.333333</td>\n      <td>0.166667</td>\n      <td>0.333333</td>\n      <td>1.0</td>\n      <td>2.0</td>\n      <td>1</td>\n      <td>0.577350</td>\n      <td>0.071864</td>\n      <td>14.500000</td>\n      <td>1.042024</td>\n    </tr>\n    <tr>\n      <th>Квартира5</th>\n      <td>0.250000</td>\n      <td>0.166667</td>\n      <td>0.250000</td>\n      <td>0.5</td>\n      <td>1.0</td>\n      <td>1</td>\n      <td>0.416342</td>\n      <td>0.051823</td>\n      <td>18.000000</td>\n      <td>0.932809</td>\n    </tr>\n    <tr>\n      <th>Квартира6</th>\n      <td>0.200000</td>\n      <td>0.200000</td>\n      <td>1.000000</td>\n      <td>1.0</td>\n      <td>1.0</td>\n      <td>1</td>\n      <td>0.584804</td>\n      <td>0.072791</td>\n      <td>14.000000</td>\n      <td>1.019081</td>\n    </tr>\n  </tbody>\n</table>\n</div>"
     },
     "execution_count": 131,
     "metadata": {},
     "output_type": "execute_result"
    }
   ],
   "source": [
    "infra_matrix = ahp_matrices.get_matrix('Инфраструктура')\n",
    "print(f\"Отношение согласованности: {CR_values['Инфраструктура']}\")\n",
    "infra_matrix"
   ],
   "metadata": {
    "collapsed": false,
    "pycharm": {
     "name": "#%%\n"
    }
   }
  },
  {
   "cell_type": "markdown",
   "source": [
    "### Расположение"
   ],
   "metadata": {
    "collapsed": false,
    "pycharm": {
     "name": "#%% md\n"
    }
   }
  },
  {
   "cell_type": "code",
   "execution_count": 87,
   "outputs": [
    {
     "name": "stdout",
     "output_type": "stream",
     "text": [
      "Отношение согласованности: 9.226732998015704\n"
     ]
    },
    {
     "data": {
      "text/plain": "           Квартира1  Квартира2  Квартира3  Квартира4  Квартира5  Квартира6  \\\nКвартира1   1.000000   2.000000   3.000000        6.0        6.0          6   \nКвартира2   0.500000   1.000000   5.000000        7.0        6.0          7   \nКвартира3   0.333333   0.200000   1.000000        4.0        6.0          7   \nКвартира4   0.166667   0.142857   0.250000        1.0        2.0          2   \nКвартира5   0.166667   0.166667   0.166667        0.5        1.0          1   \nКвартира6   0.166667   0.142857   0.142857        0.5        1.0          1   \n\n           Оценка вектора приоритета  \\\nКвартира1                   3.301927   \nКвартира2                   3.004101   \nКвартира3                   1.495787   \nКвартира4                   0.536363   \nКвартира5                   0.363708   \nКвартира6                   0.345491   \n\n           Нормализованные оценки вектора приоритета  Сумма по столбцам  \\\nКвартира1                                   0.364960           2.333333   \nКвартира2                                   0.332041           3.652381   \nКвартира3                                   0.165328           9.559524   \nКвартира4                                   0.059284          19.000000   \nКвартира5                                   0.040200          22.000000   \nКвартира6                                   0.038187          24.000000   \n\n           Умножение на нормализованные оценки  \nКвартира1                             0.851572  \nКвартира2                             1.212741  \nКвартира3                             1.580459  \nКвартира4                             1.126392  \nКвартира5                             0.884408  \nКвартира6                             0.916486  ",
      "text/html": "<div>\n<style scoped>\n    .dataframe tbody tr th:only-of-type {\n        vertical-align: middle;\n    }\n\n    .dataframe tbody tr th {\n        vertical-align: top;\n    }\n\n    .dataframe thead th {\n        text-align: right;\n    }\n</style>\n<table border=\"1\" class=\"dataframe\">\n  <thead>\n    <tr style=\"text-align: right;\">\n      <th></th>\n      <th>Квартира1</th>\n      <th>Квартира2</th>\n      <th>Квартира3</th>\n      <th>Квартира4</th>\n      <th>Квартира5</th>\n      <th>Квартира6</th>\n      <th>Оценка вектора приоритета</th>\n      <th>Нормализованные оценки вектора приоритета</th>\n      <th>Сумма по столбцам</th>\n      <th>Умножение на нормализованные оценки</th>\n    </tr>\n  </thead>\n  <tbody>\n    <tr>\n      <th>Квартира1</th>\n      <td>1.000000</td>\n      <td>2.000000</td>\n      <td>3.000000</td>\n      <td>6.0</td>\n      <td>6.0</td>\n      <td>6</td>\n      <td>3.301927</td>\n      <td>0.364960</td>\n      <td>2.333333</td>\n      <td>0.851572</td>\n    </tr>\n    <tr>\n      <th>Квартира2</th>\n      <td>0.500000</td>\n      <td>1.000000</td>\n      <td>5.000000</td>\n      <td>7.0</td>\n      <td>6.0</td>\n      <td>7</td>\n      <td>3.004101</td>\n      <td>0.332041</td>\n      <td>3.652381</td>\n      <td>1.212741</td>\n    </tr>\n    <tr>\n      <th>Квартира3</th>\n      <td>0.333333</td>\n      <td>0.200000</td>\n      <td>1.000000</td>\n      <td>4.0</td>\n      <td>6.0</td>\n      <td>7</td>\n      <td>1.495787</td>\n      <td>0.165328</td>\n      <td>9.559524</td>\n      <td>1.580459</td>\n    </tr>\n    <tr>\n      <th>Квартира4</th>\n      <td>0.166667</td>\n      <td>0.142857</td>\n      <td>0.250000</td>\n      <td>1.0</td>\n      <td>2.0</td>\n      <td>2</td>\n      <td>0.536363</td>\n      <td>0.059284</td>\n      <td>19.000000</td>\n      <td>1.126392</td>\n    </tr>\n    <tr>\n      <th>Квартира5</th>\n      <td>0.166667</td>\n      <td>0.166667</td>\n      <td>0.166667</td>\n      <td>0.5</td>\n      <td>1.0</td>\n      <td>1</td>\n      <td>0.363708</td>\n      <td>0.040200</td>\n      <td>22.000000</td>\n      <td>0.884408</td>\n    </tr>\n    <tr>\n      <th>Квартира6</th>\n      <td>0.166667</td>\n      <td>0.142857</td>\n      <td>0.142857</td>\n      <td>0.5</td>\n      <td>1.0</td>\n      <td>1</td>\n      <td>0.345491</td>\n      <td>0.038187</td>\n      <td>24.000000</td>\n      <td>0.916486</td>\n    </tr>\n  </tbody>\n</table>\n</div>"
     },
     "execution_count": 87,
     "metadata": {},
     "output_type": "execute_result"
    }
   ],
   "source": [
    "location_matrix = ahp_matrices.get_matrix('Расположение')\n",
    "print(f\"Отношение согласованности: {CR_values['Расположение']}\")\n",
    "location_matrix"
   ],
   "metadata": {
    "collapsed": false,
    "pycharm": {
     "name": "#%%\n"
    }
   }
  },
  {
   "cell_type": "markdown",
   "source": [
    "### Цена"
   ],
   "metadata": {
    "collapsed": false,
    "pycharm": {
     "name": "#%% md\n"
    }
   }
  },
  {
   "cell_type": "code",
   "execution_count": 88,
   "outputs": [
    {
     "name": "stdout",
     "output_type": "stream",
     "text": [
      "Отношение согласованности: 9.80182146231647\n"
     ]
    },
    {
     "data": {
      "text/plain": "           Квартира1  Квартира2  Квартира3  Квартира4  Квартира5  Квартира6  \\\nКвартира1   1.000000   1.000000       2.00   3.000000        6.0          4   \nКвартира2   1.000000   1.000000       4.00   6.000000        6.0          2   \nКвартира3   0.500000   0.250000       1.00   2.000000        4.0          4   \nКвартира4   0.333333   0.166667       0.50   1.000000        5.0          3   \nКвартира5   0.166667   0.166667       0.25   0.200000        1.0          2   \nКвартира6   0.250000   0.500000       0.25   0.333333        0.5          1   \n\n           Оценка вектора приоритета  \\\nКвартира1                   2.289428   \nКвартира2                   2.569797   \nКвартира3                   1.259921   \nКвартира4                   0.864234   \nКвартира5                   0.374929   \nКвартира6                   0.416342   \n\n           Нормализованные оценки вектора приоритета  Сумма по столбцам  \\\nКвартира1                                   0.294473           3.250000   \nКвартира2                                   0.330535           3.083333   \nКвартира3                                   0.162055           8.000000   \nКвартира4                                   0.111161          12.533333   \nКвартира5                                   0.048225          22.500000   \nКвартира6                                   0.053551          16.000000   \n\n           Умножение на нормализованные оценки  \nКвартира1                             0.957039  \nКвартира2                             1.019150  \nКвартира3                             1.296440  \nКвартира4                             1.393212  \nКвартира5                             1.085054  \nКвартира6                             0.856819  ",
      "text/html": "<div>\n<style scoped>\n    .dataframe tbody tr th:only-of-type {\n        vertical-align: middle;\n    }\n\n    .dataframe tbody tr th {\n        vertical-align: top;\n    }\n\n    .dataframe thead th {\n        text-align: right;\n    }\n</style>\n<table border=\"1\" class=\"dataframe\">\n  <thead>\n    <tr style=\"text-align: right;\">\n      <th></th>\n      <th>Квартира1</th>\n      <th>Квартира2</th>\n      <th>Квартира3</th>\n      <th>Квартира4</th>\n      <th>Квартира5</th>\n      <th>Квартира6</th>\n      <th>Оценка вектора приоритета</th>\n      <th>Нормализованные оценки вектора приоритета</th>\n      <th>Сумма по столбцам</th>\n      <th>Умножение на нормализованные оценки</th>\n    </tr>\n  </thead>\n  <tbody>\n    <tr>\n      <th>Квартира1</th>\n      <td>1.000000</td>\n      <td>1.000000</td>\n      <td>2.00</td>\n      <td>3.000000</td>\n      <td>6.0</td>\n      <td>4</td>\n      <td>2.289428</td>\n      <td>0.294473</td>\n      <td>3.250000</td>\n      <td>0.957039</td>\n    </tr>\n    <tr>\n      <th>Квартира2</th>\n      <td>1.000000</td>\n      <td>1.000000</td>\n      <td>4.00</td>\n      <td>6.000000</td>\n      <td>6.0</td>\n      <td>2</td>\n      <td>2.569797</td>\n      <td>0.330535</td>\n      <td>3.083333</td>\n      <td>1.019150</td>\n    </tr>\n    <tr>\n      <th>Квартира3</th>\n      <td>0.500000</td>\n      <td>0.250000</td>\n      <td>1.00</td>\n      <td>2.000000</td>\n      <td>4.0</td>\n      <td>4</td>\n      <td>1.259921</td>\n      <td>0.162055</td>\n      <td>8.000000</td>\n      <td>1.296440</td>\n    </tr>\n    <tr>\n      <th>Квартира4</th>\n      <td>0.333333</td>\n      <td>0.166667</td>\n      <td>0.50</td>\n      <td>1.000000</td>\n      <td>5.0</td>\n      <td>3</td>\n      <td>0.864234</td>\n      <td>0.111161</td>\n      <td>12.533333</td>\n      <td>1.393212</td>\n    </tr>\n    <tr>\n      <th>Квартира5</th>\n      <td>0.166667</td>\n      <td>0.166667</td>\n      <td>0.25</td>\n      <td>0.200000</td>\n      <td>1.0</td>\n      <td>2</td>\n      <td>0.374929</td>\n      <td>0.048225</td>\n      <td>22.500000</td>\n      <td>1.085054</td>\n    </tr>\n    <tr>\n      <th>Квартира6</th>\n      <td>0.250000</td>\n      <td>0.500000</td>\n      <td>0.25</td>\n      <td>0.333333</td>\n      <td>0.5</td>\n      <td>1</td>\n      <td>0.416342</td>\n      <td>0.053551</td>\n      <td>16.000000</td>\n      <td>0.856819</td>\n    </tr>\n  </tbody>\n</table>\n</div>"
     },
     "execution_count": 88,
     "metadata": {},
     "output_type": "execute_result"
    }
   ],
   "source": [
    "price_matrix = ahp_matrices.get_matrix('Цена')\n",
    "print(f\"Отношение согласованности: {CR_values['Цена']}\")\n",
    "price_matrix"
   ],
   "metadata": {
    "collapsed": false,
    "pycharm": {
     "name": "#%%\n"
    }
   }
  },
  {
   "cell_type": "markdown",
   "source": [
    "### Площадь"
   ],
   "metadata": {
    "collapsed": false,
    "pycharm": {
     "name": "#%% md\n"
    }
   }
  },
  {
   "cell_type": "code",
   "execution_count": 89,
   "outputs": [
    {
     "name": "stdout",
     "output_type": "stream",
     "text": [
      "Отношение согласованности: 9.530996736378897\n"
     ]
    },
    {
     "data": {
      "text/plain": "           Квартира1  Квартира2  Квартира3  Квартира4  Квартира5  Квартира6  \\\nКвартира1       1.00   1.000000   2.000000   4.000000        5.0          5   \nКвартира2       1.00   1.000000   5.000000   9.000000        9.0          9   \nКвартира3       0.50   0.200000   1.000000   7.000000        6.0          4   \nКвартира4       0.25   0.111111   0.142857   1.000000        3.0          4   \nКвартира5       0.20   0.111111   0.166667   0.333333        1.0          2   \nКвартира6       0.20   0.111111   0.250000   0.250000        0.5          1   \n\n           Оценка вектора приоритета  \\\nКвартира1                   2.418271   \nКвартира2                   3.922981   \nКвартира3                   1.600362   \nКвартира4                   0.602047   \nКвартира5                   0.367641   \nКвартира6                   0.297582   \n\n           Нормализованные оценки вектора приоритета  Сумма по столбцам  \\\nКвартира1                                   0.262602           3.150000   \nКвартира2                                   0.426000           2.533333   \nКвартира3                                   0.173785           8.559524   \nКвартира4                                   0.065377          21.583333   \nКвартира5                                   0.039922          24.500000   \nКвартира6                                   0.032315          25.000000   \n\n           Умножение на нормализованные оценки  \nКвартира1                             0.827196  \nКвартира2                             1.079199  \nКвартира3                             1.487513  \nКвартира4                             1.411047  \nКвартира5                             0.978100  \nКвартира6                             0.807866  ",
      "text/html": "<div>\n<style scoped>\n    .dataframe tbody tr th:only-of-type {\n        vertical-align: middle;\n    }\n\n    .dataframe tbody tr th {\n        vertical-align: top;\n    }\n\n    .dataframe thead th {\n        text-align: right;\n    }\n</style>\n<table border=\"1\" class=\"dataframe\">\n  <thead>\n    <tr style=\"text-align: right;\">\n      <th></th>\n      <th>Квартира1</th>\n      <th>Квартира2</th>\n      <th>Квартира3</th>\n      <th>Квартира4</th>\n      <th>Квартира5</th>\n      <th>Квартира6</th>\n      <th>Оценка вектора приоритета</th>\n      <th>Нормализованные оценки вектора приоритета</th>\n      <th>Сумма по столбцам</th>\n      <th>Умножение на нормализованные оценки</th>\n    </tr>\n  </thead>\n  <tbody>\n    <tr>\n      <th>Квартира1</th>\n      <td>1.00</td>\n      <td>1.000000</td>\n      <td>2.000000</td>\n      <td>4.000000</td>\n      <td>5.0</td>\n      <td>5</td>\n      <td>2.418271</td>\n      <td>0.262602</td>\n      <td>3.150000</td>\n      <td>0.827196</td>\n    </tr>\n    <tr>\n      <th>Квартира2</th>\n      <td>1.00</td>\n      <td>1.000000</td>\n      <td>5.000000</td>\n      <td>9.000000</td>\n      <td>9.0</td>\n      <td>9</td>\n      <td>3.922981</td>\n      <td>0.426000</td>\n      <td>2.533333</td>\n      <td>1.079199</td>\n    </tr>\n    <tr>\n      <th>Квартира3</th>\n      <td>0.50</td>\n      <td>0.200000</td>\n      <td>1.000000</td>\n      <td>7.000000</td>\n      <td>6.0</td>\n      <td>4</td>\n      <td>1.600362</td>\n      <td>0.173785</td>\n      <td>8.559524</td>\n      <td>1.487513</td>\n    </tr>\n    <tr>\n      <th>Квартира4</th>\n      <td>0.25</td>\n      <td>0.111111</td>\n      <td>0.142857</td>\n      <td>1.000000</td>\n      <td>3.0</td>\n      <td>4</td>\n      <td>0.602047</td>\n      <td>0.065377</td>\n      <td>21.583333</td>\n      <td>1.411047</td>\n    </tr>\n    <tr>\n      <th>Квартира5</th>\n      <td>0.20</td>\n      <td>0.111111</td>\n      <td>0.166667</td>\n      <td>0.333333</td>\n      <td>1.0</td>\n      <td>2</td>\n      <td>0.367641</td>\n      <td>0.039922</td>\n      <td>24.500000</td>\n      <td>0.978100</td>\n    </tr>\n    <tr>\n      <th>Квартира6</th>\n      <td>0.20</td>\n      <td>0.111111</td>\n      <td>0.250000</td>\n      <td>0.250000</td>\n      <td>0.5</td>\n      <td>1</td>\n      <td>0.297582</td>\n      <td>0.032315</td>\n      <td>25.000000</td>\n      <td>0.807866</td>\n    </tr>\n  </tbody>\n</table>\n</div>"
     },
     "execution_count": 89,
     "metadata": {},
     "output_type": "execute_result"
    }
   ],
   "source": [
    "area_matrix = ahp_matrices.get_matrix('Площадь')\n",
    "print(f\"Отношение согласованности: {CR_values['Площадь']}\")\n",
    "area_matrix"
   ],
   "metadata": {
    "collapsed": false,
    "pycharm": {
     "name": "#%%\n"
    }
   }
  },
  {
   "cell_type": "markdown",
   "source": [
    "### Качество ремонта"
   ],
   "metadata": {
    "collapsed": false,
    "pycharm": {
     "name": "#%% md\n"
    }
   }
  },
  {
   "cell_type": "code",
   "execution_count": 90,
   "outputs": [
    {
     "name": "stdout",
     "output_type": "stream",
     "text": [
      "Отношение согласованности: 9.899588327842066\n"
     ]
    },
    {
     "data": {
      "text/plain": "           Квартира1  Квартира2  Квартира3  Квартира4  Квартира5  Квартира6  \\\nКвартира1   1.000000   1.000000   2.000000        3.0        4.0          5   \nКвартира2   1.000000   1.000000   6.000000        6.0        6.0          7   \nКвартира3   0.500000   0.166667   1.000000        7.0        5.0          4   \nКвартира4   0.333333   0.166667   0.142857        1.0        2.0          1   \nКвартира5   0.250000   0.166667   0.200000        0.5        1.0          1   \nКвартира6   0.200000   0.142857   0.250000        1.0        1.0          1   \n\n           Оценка вектора приоритета  \\\nКвартира1                   2.220906   \nКвартира2                   3.387859   \nКвартира3                   1.505998   \nКвартира4                   0.501314   \nКвартира5                   0.401142   \nКвартира6                   0.438846   \n\n           Нормализованные оценки вектора приоритета  Сумма по столбцам  \\\nКвартира1                                   0.262641           3.283333   \nКвартира2                                   0.400642           2.642857   \nКвартира3                                   0.178097           9.592857   \nКвартира4                                   0.059285          18.500000   \nКвартира5                                   0.047438          19.000000   \nКвартира6                                   0.051897          19.000000   \n\n           Умножение на нормализованные оценки  \nКвартира1                             0.862337  \nКвартира2                             1.058841  \nКвартира3                             1.708457  \nКвартира4                             1.096764  \nКвартира5                             0.901329  \nКвартира6                             0.986046  ",
      "text/html": "<div>\n<style scoped>\n    .dataframe tbody tr th:only-of-type {\n        vertical-align: middle;\n    }\n\n    .dataframe tbody tr th {\n        vertical-align: top;\n    }\n\n    .dataframe thead th {\n        text-align: right;\n    }\n</style>\n<table border=\"1\" class=\"dataframe\">\n  <thead>\n    <tr style=\"text-align: right;\">\n      <th></th>\n      <th>Квартира1</th>\n      <th>Квартира2</th>\n      <th>Квартира3</th>\n      <th>Квартира4</th>\n      <th>Квартира5</th>\n      <th>Квартира6</th>\n      <th>Оценка вектора приоритета</th>\n      <th>Нормализованные оценки вектора приоритета</th>\n      <th>Сумма по столбцам</th>\n      <th>Умножение на нормализованные оценки</th>\n    </tr>\n  </thead>\n  <tbody>\n    <tr>\n      <th>Квартира1</th>\n      <td>1.000000</td>\n      <td>1.000000</td>\n      <td>2.000000</td>\n      <td>3.0</td>\n      <td>4.0</td>\n      <td>5</td>\n      <td>2.220906</td>\n      <td>0.262641</td>\n      <td>3.283333</td>\n      <td>0.862337</td>\n    </tr>\n    <tr>\n      <th>Квартира2</th>\n      <td>1.000000</td>\n      <td>1.000000</td>\n      <td>6.000000</td>\n      <td>6.0</td>\n      <td>6.0</td>\n      <td>7</td>\n      <td>3.387859</td>\n      <td>0.400642</td>\n      <td>2.642857</td>\n      <td>1.058841</td>\n    </tr>\n    <tr>\n      <th>Квартира3</th>\n      <td>0.500000</td>\n      <td>0.166667</td>\n      <td>1.000000</td>\n      <td>7.0</td>\n      <td>5.0</td>\n      <td>4</td>\n      <td>1.505998</td>\n      <td>0.178097</td>\n      <td>9.592857</td>\n      <td>1.708457</td>\n    </tr>\n    <tr>\n      <th>Квартира4</th>\n      <td>0.333333</td>\n      <td>0.166667</td>\n      <td>0.142857</td>\n      <td>1.0</td>\n      <td>2.0</td>\n      <td>1</td>\n      <td>0.501314</td>\n      <td>0.059285</td>\n      <td>18.500000</td>\n      <td>1.096764</td>\n    </tr>\n    <tr>\n      <th>Квартира5</th>\n      <td>0.250000</td>\n      <td>0.166667</td>\n      <td>0.200000</td>\n      <td>0.5</td>\n      <td>1.0</td>\n      <td>1</td>\n      <td>0.401142</td>\n      <td>0.047438</td>\n      <td>19.000000</td>\n      <td>0.901329</td>\n    </tr>\n    <tr>\n      <th>Квартира6</th>\n      <td>0.200000</td>\n      <td>0.142857</td>\n      <td>0.250000</td>\n      <td>1.0</td>\n      <td>1.0</td>\n      <td>1</td>\n      <td>0.438846</td>\n      <td>0.051897</td>\n      <td>19.000000</td>\n      <td>0.986046</td>\n    </tr>\n  </tbody>\n</table>\n</div>"
     },
     "execution_count": 90,
     "metadata": {},
     "output_type": "execute_result"
    }
   ],
   "source": [
    "repair_quality_matrix = ahp_matrices.get_matrix('Качество ремонта')\n",
    "print(f\"Отношение согласованности: {CR_values['Качество ремонта']}\")\n",
    "repair_quality_matrix"
   ],
   "metadata": {
    "collapsed": false,
    "pycharm": {
     "name": "#%%\n"
    }
   }
  },
  {
   "cell_type": "markdown",
   "source": [
    "### Близость к общественному транспорту"
   ],
   "metadata": {
    "collapsed": false,
    "pycharm": {
     "name": "#%% md\n"
    }
   }
  },
  {
   "cell_type": "code",
   "execution_count": 91,
   "outputs": [
    {
     "name": "stdout",
     "output_type": "stream",
     "text": [
      "Отношение согласованности: 8.33014734715599\n"
     ]
    },
    {
     "data": {
      "text/plain": "           Квартира1  Квартира2  Квартира3  Квартира4  Квартира5  Квартира6  \\\nКвартира1   1.000000   1.000000   2.000000   3.000000        4.0          6   \nКвартира2   1.000000   1.000000   9.000000   7.000000        7.0          7   \nКвартира3   0.500000   0.111111   1.000000   3.000000        2.0          3   \nКвартира4   0.333333   0.142857   0.333333   1.000000        3.0          2   \nКвартира5   0.250000   0.142857   0.500000   0.333333        1.0          2   \nКвартира6   0.166667   0.142857   0.333333   0.500000        0.5          1   \n\n           Оценка вектора приоритета  \\\nКвартира1                   2.289428   \nКвартира2                   3.815834   \nКвартира3                   1.000000   \nКвартира4                   0.675774   \nКвартира5                   0.477845   \nКвартира6                   0.354483   \n\n           Нормализованные оценки вектора приоритета  Сумма по столбцам  \\\nКвартира1                                   0.265800           3.250000   \nКвартира2                                   0.443013           2.539683   \nКвартира3                                   0.116099          13.166667   \nКвартира4                                   0.078457          14.833333   \nКвартира5                                   0.055477          17.500000   \nКвартира6                                   0.041155          21.000000   \n\n           Умножение на нормализованные оценки  \nКвартира1                             0.863849  \nКвартира2                             1.125113  \nКвартира3                             1.528632  \nКвартира4                             1.163772  \nКвартира5                             0.970850  \nКвартира6                             0.864254  ",
      "text/html": "<div>\n<style scoped>\n    .dataframe tbody tr th:only-of-type {\n        vertical-align: middle;\n    }\n\n    .dataframe tbody tr th {\n        vertical-align: top;\n    }\n\n    .dataframe thead th {\n        text-align: right;\n    }\n</style>\n<table border=\"1\" class=\"dataframe\">\n  <thead>\n    <tr style=\"text-align: right;\">\n      <th></th>\n      <th>Квартира1</th>\n      <th>Квартира2</th>\n      <th>Квартира3</th>\n      <th>Квартира4</th>\n      <th>Квартира5</th>\n      <th>Квартира6</th>\n      <th>Оценка вектора приоритета</th>\n      <th>Нормализованные оценки вектора приоритета</th>\n      <th>Сумма по столбцам</th>\n      <th>Умножение на нормализованные оценки</th>\n    </tr>\n  </thead>\n  <tbody>\n    <tr>\n      <th>Квартира1</th>\n      <td>1.000000</td>\n      <td>1.000000</td>\n      <td>2.000000</td>\n      <td>3.000000</td>\n      <td>4.0</td>\n      <td>6</td>\n      <td>2.289428</td>\n      <td>0.265800</td>\n      <td>3.250000</td>\n      <td>0.863849</td>\n    </tr>\n    <tr>\n      <th>Квартира2</th>\n      <td>1.000000</td>\n      <td>1.000000</td>\n      <td>9.000000</td>\n      <td>7.000000</td>\n      <td>7.0</td>\n      <td>7</td>\n      <td>3.815834</td>\n      <td>0.443013</td>\n      <td>2.539683</td>\n      <td>1.125113</td>\n    </tr>\n    <tr>\n      <th>Квартира3</th>\n      <td>0.500000</td>\n      <td>0.111111</td>\n      <td>1.000000</td>\n      <td>3.000000</td>\n      <td>2.0</td>\n      <td>3</td>\n      <td>1.000000</td>\n      <td>0.116099</td>\n      <td>13.166667</td>\n      <td>1.528632</td>\n    </tr>\n    <tr>\n      <th>Квартира4</th>\n      <td>0.333333</td>\n      <td>0.142857</td>\n      <td>0.333333</td>\n      <td>1.000000</td>\n      <td>3.0</td>\n      <td>2</td>\n      <td>0.675774</td>\n      <td>0.078457</td>\n      <td>14.833333</td>\n      <td>1.163772</td>\n    </tr>\n    <tr>\n      <th>Квартира5</th>\n      <td>0.250000</td>\n      <td>0.142857</td>\n      <td>0.500000</td>\n      <td>0.333333</td>\n      <td>1.0</td>\n      <td>2</td>\n      <td>0.477845</td>\n      <td>0.055477</td>\n      <td>17.500000</td>\n      <td>0.970850</td>\n    </tr>\n    <tr>\n      <th>Квартира6</th>\n      <td>0.166667</td>\n      <td>0.142857</td>\n      <td>0.333333</td>\n      <td>0.500000</td>\n      <td>0.5</td>\n      <td>1</td>\n      <td>0.354483</td>\n      <td>0.041155</td>\n      <td>21.000000</td>\n      <td>0.864254</td>\n    </tr>\n  </tbody>\n</table>\n</div>"
     },
     "execution_count": 91,
     "metadata": {},
     "output_type": "execute_result"
    }
   ],
   "source": [
    "nearest_transport_matrix = ahp_matrices.get_matrix('Близость к общественному транспорту')\n",
    "print(f\"Отношение согласованности: {CR_values['Близость к общественному транспорту']}\")\n",
    "nearest_transport_matrix"
   ],
   "metadata": {
    "collapsed": false,
    "pycharm": {
     "name": "#%%\n"
    }
   }
  },
  {
   "cell_type": "markdown",
   "source": [
    "### Глобальные вектора приоритетов"
   ],
   "metadata": {
    "collapsed": false,
    "pycharm": {
     "name": "#%% md\n"
    }
   }
  },
  {
   "cell_type": "code",
   "execution_count": 125,
   "outputs": [
    {
     "data": {
      "text/plain": "    Квартира  Инфраструктура  Расположение      Цена   Площадь  \\\n0  Квартира1        0.331987      0.364960  0.294473  0.262602   \n1  Квартира2        0.355197      0.332041  0.330535  0.426000   \n2  Квартира3        0.116338      0.165328  0.162055  0.173785   \n3  Квартира4        0.071864      0.059284  0.111161  0.065377   \n4  Квартира5        0.051823      0.040200  0.048225  0.039922   \n5  Квартира6        0.072791      0.038187  0.053551  0.032315   \n\n   Качество ремонта  Близость к общ. трансп.  Глобальный вектор приоритетов  \n0          0.262641                 0.265800                       0.223581  \n1          0.400642                 0.443013                       0.230388  \n2          0.178097                 0.116099                       0.220687  \n3          0.059285                 0.078457                       0.232548  \n4          0.047438                 0.055477                       0.226591  \n5          0.051897                 0.041155                       0.231526  ",
      "text/html": "<div>\n<style scoped>\n    .dataframe tbody tr th:only-of-type {\n        vertical-align: middle;\n    }\n\n    .dataframe tbody tr th {\n        vertical-align: top;\n    }\n\n    .dataframe thead th {\n        text-align: right;\n    }\n</style>\n<table border=\"1\" class=\"dataframe\">\n  <thead>\n    <tr style=\"text-align: right;\">\n      <th></th>\n      <th>Квартира</th>\n      <th>Инфраструктура</th>\n      <th>Расположение</th>\n      <th>Цена</th>\n      <th>Площадь</th>\n      <th>Качество ремонта</th>\n      <th>Близость к общ. трансп.</th>\n      <th>Глобальный вектор приоритетов</th>\n    </tr>\n  </thead>\n  <tbody>\n    <tr>\n      <th>0</th>\n      <td>Квартира1</td>\n      <td>0.331987</td>\n      <td>0.364960</td>\n      <td>0.294473</td>\n      <td>0.262602</td>\n      <td>0.262641</td>\n      <td>0.265800</td>\n      <td>0.223581</td>\n    </tr>\n    <tr>\n      <th>1</th>\n      <td>Квартира2</td>\n      <td>0.355197</td>\n      <td>0.332041</td>\n      <td>0.330535</td>\n      <td>0.426000</td>\n      <td>0.400642</td>\n      <td>0.443013</td>\n      <td>0.230388</td>\n    </tr>\n    <tr>\n      <th>2</th>\n      <td>Квартира3</td>\n      <td>0.116338</td>\n      <td>0.165328</td>\n      <td>0.162055</td>\n      <td>0.173785</td>\n      <td>0.178097</td>\n      <td>0.116099</td>\n      <td>0.220687</td>\n    </tr>\n    <tr>\n      <th>3</th>\n      <td>Квартира4</td>\n      <td>0.071864</td>\n      <td>0.059284</td>\n      <td>0.111161</td>\n      <td>0.065377</td>\n      <td>0.059285</td>\n      <td>0.078457</td>\n      <td>0.232548</td>\n    </tr>\n    <tr>\n      <th>4</th>\n      <td>Квартира5</td>\n      <td>0.051823</td>\n      <td>0.040200</td>\n      <td>0.048225</td>\n      <td>0.039922</td>\n      <td>0.047438</td>\n      <td>0.055477</td>\n      <td>0.226591</td>\n    </tr>\n    <tr>\n      <th>5</th>\n      <td>Квартира6</td>\n      <td>0.072791</td>\n      <td>0.038187</td>\n      <td>0.053551</td>\n      <td>0.032315</td>\n      <td>0.051897</td>\n      <td>0.041155</td>\n      <td>0.231526</td>\n    </tr>\n  </tbody>\n</table>\n</div>"
     },
     "execution_count": 125,
     "metadata": {},
     "output_type": "execute_result"
    }
   ],
   "source": [
    "# Предполагаем, что столбец с весами называется 'weights'\n",
    "weights = ahp_matrix.get_initial_matrix()['Нормализованные оценки вектора приоритета']\n",
    "\n",
    "# Расчет глобального вектора приоритетов для каждой квартиры\n",
    "global_priorities = []\n",
    "for df in [infra_matrix, location_matrix, price_matrix, area_matrix, repair_quality_matrix, nearest_transport_matrix]:\n",
    "\tglobal_priority = np.dot(weights, df['Нормализованные оценки вектора приоритета'])\n",
    "\tglobal_priorities.append(global_priority)\n",
    "\n",
    "\n",
    "kv1 = [x['Нормализованные оценки вектора приоритета']['Квартира1']\n",
    "\t\t for x in (infra_matrix, location_matrix, price_matrix, area_matrix, repair_quality_matrix, nearest_transport_matrix)]\n",
    "\n",
    "kv2 = [x['Нормализованные оценки вектора приоритета']['Квартира2']\n",
    "\t   for x in (infra_matrix, location_matrix, price_matrix, area_matrix, repair_quality_matrix, nearest_transport_matrix)]\n",
    "\n",
    "kv3 = [x['Нормализованные оценки вектора приоритета']['Квартира3']\n",
    "\t   for x in (infra_matrix, location_matrix, price_matrix, area_matrix, repair_quality_matrix, nearest_transport_matrix)]\n",
    "\n",
    "kv4 = [x['Нормализованные оценки вектора приоритета']['Квартира4']\n",
    "\t   for x in (infra_matrix, location_matrix, price_matrix, area_matrix, repair_quality_matrix, nearest_transport_matrix)]\n",
    "\n",
    "kv5 = [x['Нормализованные оценки вектора приоритета']['Квартира5']\n",
    "\t   for x in (infra_matrix, location_matrix, price_matrix, area_matrix, repair_quality_matrix, nearest_transport_matrix)]\n",
    "\n",
    "kv6 = [x['Нормализованные оценки вектора приоритета']['Квартира6']\n",
    "\t   for x in (infra_matrix, location_matrix, price_matrix, area_matrix, repair_quality_matrix, nearest_transport_matrix)]\n",
    "\n",
    "\n",
    "apartments = [\"Квартира1\", \"Квартира2\", \"Квартира3\", \"Квартира4\", \"Квартира5\", \"Квартира6\"]\n",
    "#criteria = [\"Инфраструктура\", \"Расположение\", \"Цена\", \"Площадь\", \"Качество ремонта\", \"Близость к общ. трансп.\"]\n",
    "\n",
    "data = {\n",
    "\t\"Квартира\": apartments,\n",
    "\t\"Инфраструктура\": [kv1[0], kv2[0], kv3[0], kv4[0], kv5[0], kv6[0]],\n",
    "\t\"Расположение\": [kv1[1], kv2[1], kv3[1], kv4[1], kv5[1], kv6[1]],\n",
    "\t\"Цена\": [kv1[2], kv2[2], kv3[2], kv4[2], kv5[2], kv6[2]],\n",
    "\t\"Площадь\": [kv1[3], kv2[3], kv3[3], kv4[3], kv5[3], kv6[3]],\n",
    "\t\"Качество ремонта\": [kv1[4], kv2[4], kv3[4], kv4[4], kv5[4], kv6[4]],\n",
    "\t\"Близость к общ. трансп.\": [kv1[5], kv2[5], kv3[5], kv4[5], kv5[5], kv6[5]],\n",
    "\t\"Глобальный вектор приоритетов\": global_priorities\n",
    "}\n",
    "\n",
    "\n",
    "\n",
    "\n",
    "\n",
    "df = pd.DataFrame(data)\n",
    "df\n"
   ],
   "metadata": {
    "collapsed": false,
    "pycharm": {
     "name": "#%%\n"
    }
   }
  },
  {
   "cell_type": "markdown",
   "source": [
    "### Вывод\n",
    "\n",
    "Результаты вычислений показали, что нужно выбрать Квартиру4 (строка № 4)."
   ],
   "metadata": {
    "collapsed": false,
    "pycharm": {
     "name": "#%% md\n"
    }
   }
  }
 ],
 "metadata": {
  "kernelspec": {
   "display_name": "Python 3",
   "language": "python",
   "name": "python3"
  },
  "language_info": {
   "codemirror_mode": {
    "name": "ipython",
    "version": 2
   },
   "file_extension": ".py",
   "mimetype": "text/x-python",
   "name": "python",
   "nbconvert_exporter": "python",
   "pygments_lexer": "ipython2",
   "version": "2.7.6"
  }
 },
 "nbformat": 4,
 "nbformat_minor": 0
}