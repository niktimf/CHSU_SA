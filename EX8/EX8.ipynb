{
 "cells": [
  {
   "cell_type": "markdown",
   "source": [
    "# Практическое занятие 8\n",
    "## Вариант 11"
   ],
   "metadata": {
    "collapsed": false,
    "pycharm": {
     "name": "#%% md\n"
    }
   }
  },
  {
   "cell_type": "markdown",
   "source": [
    "## Создадим класс с методами"
   ],
   "metadata": {
    "collapsed": false,
    "pycharm": {
     "name": "#%% md\n"
    }
   }
  },
  {
   "cell_type": "code",
   "execution_count": 34,
   "outputs": [],
   "source": [
    "import numpy as np\n",
    "from scipy.optimize import minimize\n",
    "import pandas as pd\n",
    "\n",
    "\n",
    "class Function:\n",
    "    \"\"\"\n",
    "    Класс Function реализует различные методы многокритериальной оптимизации.\n",
    "    Включает методы для решения задачи с разными критериями и ограничениями.\n",
    "    \"\"\"\n",
    "    def __init__(self):\n",
    "        \"\"\"\n",
    "        Инициализация класса с определением основных ограничений задачи.\n",
    "        Ограничения заданы в виде неравенств.\n",
    "        \"\"\"\n",
    "        self.constraints = (\n",
    "            {'type': 'ineq', 'fun': lambda x: 4 * x[0] - x[1]},      # 4x - y >= 0\n",
    "            {'type': 'ineq', 'fun': lambda x: - x[0] + x[1] + 3},   # -x + y <= 3\n",
    "            {'type': 'ineq', 'fun': lambda x: 2 * x[0] - 3 * x[1] + 6} # 2x - 3y <= 6\n",
    "        )\n",
    "        self.bounds = [(0, None), (0, None)] # x >= 0, y >= 0\n",
    "\n",
    "    @staticmethod\n",
    "    def Z1(x):\n",
    "        \"\"\"\n",
    "        Целевая функция Z1.\n",
    "        :param x: Вектор переменных [x, y].\n",
    "        :return: Значение функции Z1 = 5x - 3y.\n",
    "        \"\"\"\n",
    "        return 5 * x[0] - 3 * x[1]\n",
    "\n",
    "    @staticmethod\n",
    "    def Z2(x):\n",
    "        \"\"\"\n",
    "        Целевая функция Z2.\n",
    "        :param x: Вектор переменных [x, y].\n",
    "        :return: Значение функции Z2 = 6x + 2y.\n",
    "        \"\"\"\n",
    "        return 6 * x[0] + 2 * x[1]\n",
    "\n",
    "    @staticmethod\n",
    "    def Z3(x):\n",
    "        \"\"\"\n",
    "        Целевая функция Z3.\n",
    "        :param x: Вектор переменных [x, y].\n",
    "        :return: Значение функции Z3 = x - 3y.\n",
    "        \"\"\"\n",
    "        return -(x[0] - 3 * x[1])  # Минимизация вместо максимизации\n",
    "\n",
    "    def independent_criteria_optimization(self, objective_function, initial_point=None):\n",
    "        \"\"\"\n",
    "        Метод независимой оптимизации целевых функций.\n",
    "        :param objective_function: Целевая функция для оптимизации.\n",
    "        :param initial_point: Начальная точка для оптимизации (по умолчанию [0, 0]).\n",
    "        :return: Результат оптимизации.\n",
    "        \"\"\"\n",
    "        if initial_point is None:\n",
    "            initial_point = [0, 0]\n",
    "        result = minimize(objective_function, initial_point, method='SLSQP', bounds=self.bounds, constraints=self.constraints)\n",
    "        return result\n",
    "\n",
    "    def generalized_criterion_method(self, w1, w2, initial_point=None):\n",
    "        \"\"\"\n",
    "        Метод обобщенного критерия. Использует веса для комбинирования критериев.\n",
    "        :param w1: Вес для Z1.\n",
    "        :param w2: Вес для Z2.\n",
    "        :param initial_point: Начальная точка для оптимизации (по умолчанию [0, 0]).\n",
    "        :return: Результат оптимизации.\n",
    "        \"\"\"\n",
    "        w3 = 1 - w1 - w2\n",
    "        if initial_point is None:\n",
    "            initial_point = [0, 0]\n",
    "        def objective_function(x):\n",
    "            \"\"\"\n",
    "            Обобщенная целевая функция для метода обобщенного критерия.\n",
    "            Комбинирует функции Z1, Z2 и Z3 с весовыми коэффициентами w1, w2 и w3.\n",
    "\n",
    "            :param x: Вектор переменных [x, y], используемых в функциях Z1, Z2, Z3.\n",
    "            :return: Взвешенное значение комбинации функций Z1, Z2 и Z3.\n",
    "            \"\"\"\n",
    "            return w1 * self.Z1(x) + w2 * self.Z2(x) + w3 * self.Z3(x)\n",
    "\n",
    "        result = minimize(objective_function, initial_point, method='SLSQP', bounds=self.bounds, constraints=self.constraints)\n",
    "        return result\n",
    "\n",
    "    def minimize_total_relative_concession(self, k1, k2, k3):\n",
    "        \"\"\"\n",
    "        Метод минимизации общей относительной уступки.\n",
    "        :param k1: Коэффициент уступки для Z1.\n",
    "        :param k2: Коэффициент уступки для Z2.\n",
    "        :param k3: Коэффициент уступки для Z3.\n",
    "        :return: Результат оптимизации.\n",
    "        \"\"\"\n",
    "        # Оптимизация Z1 и Z2 для нахождения m1 и m2\n",
    "        m1 = self.independent_criteria_optimization(self.Z1).fun\n",
    "        m2 = self.independent_criteria_optimization(self.Z2).fun\n",
    "        # Оптимизация Z3 для нахождения m3 (максимум Z3)\n",
    "        m3 = self.independent_criteria_optimization(self.Z3).fun\n",
    "\n",
    "        # Новые ограничения, учитывающие m1, m2, m3, k1, k2, k3\n",
    "        constraints_with_concession = (\n",
    "            {'type': 'ineq', 'fun': lambda v: 4 * v[0] - v[1]},      # 4x - y >= 0\n",
    "            {'type': 'ineq', 'fun': lambda v: - v[0] + v[1] + 3},   # -x + y <= 3\n",
    "            {'type': 'ineq', 'fun': lambda v: 2 * v[0] - 3 * v[1] + 6}, # 2x - 3y <= 6\n",
    "            {'type': 'ineq', 'fun': lambda v: self.Z1([v[0], v[1]]) - m1 + v[2] * k1},\n",
    "            {'type': 'ineq', 'fun': lambda v: self.Z2([v[0], v[1]]) - m2 + v[2] * k2},\n",
    "            {'type': 'ineq', 'fun': lambda v: -self.Z3([v[0], v[1]]) - m3 + v[2] * k3},\n",
    "        )\n",
    "\n",
    "        # Целевая функция для минимизации l\n",
    "        def objective_function_l(v):\n",
    "            \"\"\"\n",
    "            Целевая функция для оптимизации в методе минимизации общей относительной уступки.\n",
    "            Минимизирует переменную l, которая представляет собой общую относительную уступку.\n",
    "\n",
    "            :param v: Вектор переменных, включающий x, y и l (v[0] = x, v[1] = y, v[2] = l).\n",
    "            :return: Значение переменной l, которую необходимо минимизировать.\n",
    "            \"\"\"\n",
    "            return v[2]\n",
    "\n",
    "            # Оптимизация l с учетом новых ограничений\n",
    "        result = minimize(objective_function_l, [0, 0, 0], method='SLSQP', bounds=[(0, None), (0, None), (0, None)], constraints=constraints_with_concession)\n",
    "        return result\n",
    "\n",
    "\n",
    "    def sequential_concessions_method(self, delta1, delta2):\n",
    "        \"\"\"\n",
    "        Метод последовательных уступок. Ищет оптимальное решение, делая уступки по каждому критерию.\n",
    "        :param delta1: Уступка для первого критерия.\n",
    "        :param delta2: Уступка для второго критерия.\n",
    "        :return: Результат оптимизации.\n",
    "        \"\"\"\n",
    "        # Этап 1: Находим максимум Z1\n",
    "        m1 = self.independent_criteria_optimization(self.Z1).fun\n",
    "\n",
    "        # Этап 2: Находим максимум Z2 с дополнительным условием на Z1\n",
    "        constraints_stage_2 = self.constraints + (\n",
    "            {'type': 'ineq', 'fun': lambda x: self.Z1(x) - (m1 - delta1)},\n",
    "        )\n",
    "        m2 = minimize(self.Z2, [0, 0], method='SLSQP', bounds=self.bounds, constraints=constraints_stage_2).fun\n",
    "\n",
    "        # Этап 3: Находим максимум Z3 с дополнительными условиями на Z1 и Z2\n",
    "        constraints_stage_3 = self.constraints + (\n",
    "            {'type': 'ineq', 'fun': lambda x: self.Z1(x) - (m1 - delta1)},\n",
    "            {'type': 'ineq', 'fun': lambda x: self.Z2(x) - (m2 - delta2)},\n",
    "        )\n",
    "        result = minimize(lambda x: -self.Z3(x), [0, 0], method='SLSQP', bounds=self.bounds, constraints=constraints_stage_3)\n",
    "        return result\n",
    "\n",
    "\n",
    "\n",
    "# Создаем экземпляр класса\n",
    "function = Function()\n"
   ],
   "metadata": {
    "collapsed": false,
    "pycharm": {
     "name": "#%%\n"
    }
   }
  },
  {
   "cell_type": "markdown",
   "source": [
    "### Метод независимой оптимизации целевых функций"
   ],
   "metadata": {
    "collapsed": false,
    "pycharm": {
     "name": "#%% md\n"
    }
   }
  },
  {
   "cell_type": "code",
   "execution_count": 61,
   "outputs": [
    {
     "data": {
      "text/plain": "                                     Метод   Z             x    y  \\\n0  Независимая оптимизация целевых функций  Z1  6.000000e-01  2.4   \n1                                           Z2  1.432188e-14  0.0   \n2                                           Z3  3.000000e+00  0.0   \n\n        Прибыль  Количество изделий  Себестоимость  \n0 -4.200000e+00        8.400000e+00  -6.600000e+00  \n1  8.593126e-14        8.593126e-14   1.432188e-14  \n2 -3.000000e+00        1.800000e+01   3.000000e+00  ",
      "text/html": "<div>\n<style scoped>\n    .dataframe tbody tr th:only-of-type {\n        vertical-align: middle;\n    }\n\n    .dataframe tbody tr th {\n        vertical-align: top;\n    }\n\n    .dataframe thead th {\n        text-align: right;\n    }\n</style>\n<table border=\"1\" class=\"dataframe\">\n  <thead>\n    <tr style=\"text-align: right;\">\n      <th></th>\n      <th>Метод</th>\n      <th>Z</th>\n      <th>x</th>\n      <th>y</th>\n      <th>Прибыль</th>\n      <th>Количество изделий</th>\n      <th>Себестоимость</th>\n    </tr>\n  </thead>\n  <tbody>\n    <tr>\n      <th>0</th>\n      <td>Независимая оптимизация целевых функций</td>\n      <td>Z1</td>\n      <td>6.000000e-01</td>\n      <td>2.4</td>\n      <td>-4.200000e+00</td>\n      <td>8.400000e+00</td>\n      <td>-6.600000e+00</td>\n    </tr>\n    <tr>\n      <th>1</th>\n      <td></td>\n      <td>Z2</td>\n      <td>1.432188e-14</td>\n      <td>0.0</td>\n      <td>8.593126e-14</td>\n      <td>8.593126e-14</td>\n      <td>1.432188e-14</td>\n    </tr>\n    <tr>\n      <th>2</th>\n      <td></td>\n      <td>Z3</td>\n      <td>3.000000e+00</td>\n      <td>0.0</td>\n      <td>-3.000000e+00</td>\n      <td>1.800000e+01</td>\n      <td>3.000000e+00</td>\n    </tr>\n  </tbody>\n</table>\n</div>"
     },
     "execution_count": 61,
     "metadata": {},
     "output_type": "execute_result"
    }
   ],
   "source": [
    "\n",
    "# Оптимизация Z1\n",
    "# Вызываем метод independent_criteria_optimization(метод независимой оптимизации целевых функций), который определен ранее в классе\n",
    "result_Z1 = function.independent_criteria_optimization(function.Z1)\n",
    "\n",
    "# Использование результатов Z1 для Z2\n",
    "initial_point_Z2 = result_Z1.x\n",
    "result_Z2 = function.independent_criteria_optimization(function.Z2, initial_point_Z2)\n",
    "\n",
    "# Использование результатов Z1 для Z3\n",
    "initial_point_Z3 = result_Z1.x\n",
    "result_Z3 = function.independent_criteria_optimization(function.Z3, initial_point_Z3)\n",
    "\n",
    "\n",
    "# Создание данных для DataFrame\n",
    "data = {\n",
    "    \"Z\": [\"Z1\", \"Z2\", \"Z3\"],\n",
    "    \"x\": [result_Z1.x[0], result_Z2.x[0], result_Z3.x[0]],\n",
    "    \"y\": [result_Z1.x[1], result_Z2.x[1], result_Z3.x[1]],\n",
    "    \"Прибыль\": [result_Z1.fun, result_Z2.fun, result_Z3.fun],\n",
    "    \"Количество изделий\": [6 * result_Z1.x[0] + 2 * result_Z1.x[1],\n",
    "                           6 * result_Z2.x[0] + 2 * result_Z2.x[1],\n",
    "                           6 * result_Z3.x[0] + 2 * result_Z3.x[1]],\n",
    "    \"Себестоимость\": [result_Z1.x[0] - 3 * result_Z1.x[1],\n",
    "                      result_Z2.x[0] - 3 * result_Z2.x[1],\n",
    "                      result_Z3.x[0] - 3 * result_Z3.x[1]]\n",
    "}\n",
    "\n",
    "# Создание DataFrame\n",
    "df1 = pd.DataFrame(data)\n",
    "\n",
    "\n",
    "method_name = \"Независимая оптимизация целевых функций\"\n",
    "df1.insert(0, 'Метод', [\"\"] * len(df1))\n",
    "df1.at[0, 'Метод'] = method_name\n",
    "\n",
    "df1"
   ],
   "metadata": {
    "collapsed": false,
    "pycharm": {
     "name": "#%%\n"
    }
   }
  },
  {
   "cell_type": "markdown",
   "source": [
    "### Метод обобщенного критерия"
   ],
   "metadata": {
    "collapsed": false,
    "pycharm": {
     "name": "#%% md\n"
    }
   }
  },
  {
   "cell_type": "code",
   "execution_count": 58,
   "outputs": [
    {
     "data": {
      "text/plain": "                 Метод    Z    x    y  Прибыль  Количество изделий  \\\n0  Обобщенный критерий   -   0.0  0.0      0.0                 0.0   \n\n   Себестоимость  \n0            0.0  ",
      "text/html": "<div>\n<style scoped>\n    .dataframe tbody tr th:only-of-type {\n        vertical-align: middle;\n    }\n\n    .dataframe tbody tr th {\n        vertical-align: top;\n    }\n\n    .dataframe thead th {\n        text-align: right;\n    }\n</style>\n<table border=\"1\" class=\"dataframe\">\n  <thead>\n    <tr style=\"text-align: right;\">\n      <th></th>\n      <th>Метод</th>\n      <th>Z</th>\n      <th>x</th>\n      <th>y</th>\n      <th>Прибыль</th>\n      <th>Количество изделий</th>\n      <th>Себестоимость</th>\n    </tr>\n  </thead>\n  <tbody>\n    <tr>\n      <th>0</th>\n      <td>Обобщенный критерий</td>\n      <td>-</td>\n      <td>0.0</td>\n      <td>0.0</td>\n      <td>0.0</td>\n      <td>0.0</td>\n      <td>0.0</td>\n    </tr>\n  </tbody>\n</table>\n</div>"
     },
     "execution_count": 58,
     "metadata": {},
     "output_type": "execute_result"
    }
   ],
   "source": [
    "# Значение весов\n",
    "W1 = 0.3\n",
    "W2 = 0.3\n",
    "\n",
    "result_generalized = function.generalized_criterion_method(W1, W2, initial_point_Z2)\n",
    "#print(\"Результат оптимизации обобщенного критерия:\", result_generalized)\n",
    "\n",
    "data = {\n",
    "    \"Z\": [\" - \"],\n",
    "    \"x\": [result_generalized.x[0]],\n",
    "    \"y\": [result_generalized.x[1]],\n",
    "    \"Прибыль\": [result_generalized.fun],\n",
    "    \"Количество изделий\": [6 * result_generalized.x[0] + 2 * result_generalized.x[1]],\n",
    "    \"Себестоимость\": [result_generalized.x[0] - 3 * result_generalized.x[1]]\n",
    "}\n",
    "\n",
    "df2 = pd.DataFrame(data)\n",
    "\n",
    "method_name = \"Обобщенный критерий\"\n",
    "df2.insert(0, 'Метод', [\"\"] * len(df2))\n",
    "df2.at[0, 'Метод'] = method_name\n",
    "\n",
    "df2\n"
   ],
   "metadata": {
    "collapsed": false,
    "pycharm": {
     "name": "#%%\n"
    }
   }
  },
  {
   "cell_type": "markdown",
   "source": [
    "### Метод минимизации общей относительной уступки."
   ],
   "metadata": {
    "collapsed": false,
    "pycharm": {
     "name": "#%% md\n"
    }
   }
  },
  {
   "cell_type": "code",
   "execution_count": 57,
   "outputs": [
    {
     "data": {
      "text/plain": "                                     Метод    Z    x    y  Прибыль  \\\n0  Минимизация общей относительной уступки   -   0.0  0.0      0.0   \n\n   Количество изделий  Себестоимость  \n0                 0.0            0.0  ",
      "text/html": "<div>\n<style scoped>\n    .dataframe tbody tr th:only-of-type {\n        vertical-align: middle;\n    }\n\n    .dataframe tbody tr th {\n        vertical-align: top;\n    }\n\n    .dataframe thead th {\n        text-align: right;\n    }\n</style>\n<table border=\"1\" class=\"dataframe\">\n  <thead>\n    <tr style=\"text-align: right;\">\n      <th></th>\n      <th>Метод</th>\n      <th>Z</th>\n      <th>x</th>\n      <th>y</th>\n      <th>Прибыль</th>\n      <th>Количество изделий</th>\n      <th>Себестоимость</th>\n    </tr>\n  </thead>\n  <tbody>\n    <tr>\n      <th>0</th>\n      <td>Минимизация общей относительной уступки</td>\n      <td>-</td>\n      <td>0.0</td>\n      <td>0.0</td>\n      <td>0.0</td>\n      <td>0.0</td>\n      <td>0.0</td>\n    </tr>\n  </tbody>\n</table>\n</div>"
     },
     "execution_count": 57,
     "metadata": {},
     "output_type": "execute_result"
    }
   ],
   "source": [
    "# Примерные значения коэффициентов\n",
    "K1 = 5\n",
    "K2 = 2\n",
    "K3 = 2\n",
    "result_concession = function.minimize_total_relative_concession(K1, K2, K3)\n",
    "#print(\"Результат минимизации общей относительной уступки:\", result_concession)\n",
    "\n",
    "data = {\n",
    "    \"Z\": [\" - \"],\n",
    "    \"x\": [result_concession.x[0]],\n",
    "    \"y\": [result_concession.x[1]],\n",
    "    \"Прибыль\": [result_concession.fun],\n",
    "    \"Количество изделий\": [6 * result_concession.x[0] + 2 * result_concession.x[1]],\n",
    "    \"Себестоимость\": [result_concession.x[0] - 3 * result_concession.x[1]]\n",
    "}\n",
    "\n",
    "df3 = pd.DataFrame(data)\n",
    "method_name = \"Минимизация общей относительной уступки\"\n",
    "df3.insert(0, 'Метод', [\"\"] * len(df3))\n",
    "df3.at[0, 'Метод'] = method_name\n",
    "\n",
    "df3\n"
   ],
   "metadata": {
    "collapsed": false,
    "pycharm": {
     "name": "#%%\n"
    }
   }
  },
  {
   "cell_type": "markdown",
   "source": [
    "### Метод последовательных уступок"
   ],
   "metadata": {
    "collapsed": false,
    "pycharm": {
     "name": "#%% md\n"
    }
   }
  },
  {
   "cell_type": "code",
   "execution_count": 56,
   "outputs": [
    {
     "data": {
      "text/plain": "                      Метод    Z     x     y  Прибыль  Количество изделий  \\\n0  Последовательные уступки   -   15.0  12.0    -21.0               114.0   \n\n   Себестоимость  \n0          -21.0  ",
      "text/html": "<div>\n<style scoped>\n    .dataframe tbody tr th:only-of-type {\n        vertical-align: middle;\n    }\n\n    .dataframe tbody tr th {\n        vertical-align: top;\n    }\n\n    .dataframe thead th {\n        text-align: right;\n    }\n</style>\n<table border=\"1\" class=\"dataframe\">\n  <thead>\n    <tr style=\"text-align: right;\">\n      <th></th>\n      <th>Метод</th>\n      <th>Z</th>\n      <th>x</th>\n      <th>y</th>\n      <th>Прибыль</th>\n      <th>Количество изделий</th>\n      <th>Себестоимость</th>\n    </tr>\n  </thead>\n  <tbody>\n    <tr>\n      <th>0</th>\n      <td>Последовательные уступки</td>\n      <td>-</td>\n      <td>15.0</td>\n      <td>12.0</td>\n      <td>-21.0</td>\n      <td>114.0</td>\n      <td>-21.0</td>\n    </tr>\n  </tbody>\n</table>\n</div>"
     },
     "execution_count": 56,
     "metadata": {},
     "output_type": "execute_result"
    }
   ],
   "source": [
    "# Дельты\n",
    "DELTA1 = 5\n",
    "DELTA2 = 2\n",
    "\n",
    "result_sequential = function.sequential_concessions_method(DELTA1, DELTA2)\n",
    "#print(\"Результат метода последовательных уступок:\", result_sequential)\n",
    "\n",
    "\n",
    "data = {\n",
    "    \"Z\": [\" - \"],\n",
    "    \"x\": [result_sequential.x[0]],\n",
    "    \"y\": [result_sequential.x[1]],\n",
    "    \"Прибыль\": [result_sequential.fun],\n",
    "    \"Количество изделий\": [6 * result_sequential.x[0] + 2 * result_sequential.x[1]],\n",
    "    \"Себестоимость\": [result_sequential.x[0] - 3 * result_sequential.x[1]]\n",
    "}\n",
    "\n",
    "df4 = pd.DataFrame(data)\n",
    "\n",
    "method_name = \"Последовательные уступки\"\n",
    "df4.insert(0, 'Метод', [\"\"] * len(df4))\n",
    "df4.at[0, 'Метод'] = method_name\n",
    "\n",
    "\n",
    "df4\n"
   ],
   "metadata": {
    "collapsed": false,
    "pycharm": {
     "name": "#%%\n"
    }
   }
  },
  {
   "cell_type": "code",
   "execution_count": 73,
   "outputs": [
    {
     "data": {
      "text/plain": "                                     Метод    Z     x     y  Прибыль  \\\n0  Независимая оптимизация целевых функций   Z1  0.60  2.40    -4.20   \n1                                            Z2  0.00  0.00     0.00   \n2                                            Z3  3.00  0.00    -3.00   \n0                      Обобщенный критерий   -   0.00  0.00     0.00   \n0  Минимизация общей относительной уступки   -   0.00  0.00     0.00   \n0                 Последовательные уступки   -  15.00 12.00   -21.00   \n\n   Количество изделий  Себестоимость  \n0                8.40          -6.60  \n1                0.00           0.00  \n2               18.00           3.00  \n0                0.00           0.00  \n0                0.00           0.00  \n0              114.00         -21.00  ",
      "text/html": "<div>\n<style scoped>\n    .dataframe tbody tr th:only-of-type {\n        vertical-align: middle;\n    }\n\n    .dataframe tbody tr th {\n        vertical-align: top;\n    }\n\n    .dataframe thead th {\n        text-align: right;\n    }\n</style>\n<table border=\"1\" class=\"dataframe\">\n  <thead>\n    <tr style=\"text-align: right;\">\n      <th></th>\n      <th>Метод</th>\n      <th>Z</th>\n      <th>x</th>\n      <th>y</th>\n      <th>Прибыль</th>\n      <th>Количество изделий</th>\n      <th>Себестоимость</th>\n    </tr>\n  </thead>\n  <tbody>\n    <tr>\n      <th>0</th>\n      <td>Независимая оптимизация целевых функций</td>\n      <td>Z1</td>\n      <td>0.60</td>\n      <td>2.40</td>\n      <td>-4.20</td>\n      <td>8.40</td>\n      <td>-6.60</td>\n    </tr>\n    <tr>\n      <th>1</th>\n      <td></td>\n      <td>Z2</td>\n      <td>0.00</td>\n      <td>0.00</td>\n      <td>0.00</td>\n      <td>0.00</td>\n      <td>0.00</td>\n    </tr>\n    <tr>\n      <th>2</th>\n      <td></td>\n      <td>Z3</td>\n      <td>3.00</td>\n      <td>0.00</td>\n      <td>-3.00</td>\n      <td>18.00</td>\n      <td>3.00</td>\n    </tr>\n    <tr>\n      <th>0</th>\n      <td>Обобщенный критерий</td>\n      <td>-</td>\n      <td>0.00</td>\n      <td>0.00</td>\n      <td>0.00</td>\n      <td>0.00</td>\n      <td>0.00</td>\n    </tr>\n    <tr>\n      <th>0</th>\n      <td>Минимизация общей относительной уступки</td>\n      <td>-</td>\n      <td>0.00</td>\n      <td>0.00</td>\n      <td>0.00</td>\n      <td>0.00</td>\n      <td>0.00</td>\n    </tr>\n    <tr>\n      <th>0</th>\n      <td>Последовательные уступки</td>\n      <td>-</td>\n      <td>15.00</td>\n      <td>12.00</td>\n      <td>-21.00</td>\n      <td>114.00</td>\n      <td>-21.00</td>\n    </tr>\n  </tbody>\n</table>\n</div>"
     },
     "execution_count": 73,
     "metadata": {},
     "output_type": "execute_result"
    }
   ],
   "source": [
    "df = pd.concat([df1, df2, df3, df4])\n",
    "\n",
    "\n",
    "pd.set_option('display.float_format', '{:.2f}'.format)\n",
    "df = df.round(2)\n",
    "\n",
    "df"
   ],
   "metadata": {
    "collapsed": false,
    "pycharm": {
     "name": "#%%\n"
    }
   }
  },
  {
   "cell_type": "markdown",
   "source": [
    "### Общий вывод\n",
    "\n",
    "\n",
    "\n",
    "1. **Независимая оптимизация целевых функций**:\n",
    "   - Для минимизации прибыли (`Z1`), наилучшие параметры: `x = 0.60`, `y = 2.40`.\n",
    "   - Оптимизация количества изделий (`Z2`) приводит к нулевым значениям.\n",
    "   - Для максимизации себестоимости (`Z3`), оптимальными оказались параметры: `x = 3.00`, `y = 0.00`.\n",
    "\n",
    "2. **Обобщенный критерий** и **Минимизация общей относительной уступки**:\n",
    "   - Оба метода приводят к нулевым значениям по всем параметрам.\n",
    "\n",
    "3. **Последовательные уступки**:\n",
    "   - Метод дает значительные параметры `x = 15.00` и `y = 12.00`, и ведет к значительным убыткам по прибыли и себестоимости."
   ],
   "metadata": {
    "collapsed": false,
    "pycharm": {
     "name": "#%% md\n"
    }
   }
  }
 ],
 "metadata": {
  "kernelspec": {
   "display_name": "Python 3",
   "language": "python",
   "name": "python3"
  },
  "language_info": {
   "codemirror_mode": {
    "name": "ipython",
    "version": 2
   },
   "file_extension": ".py",
   "mimetype": "text/x-python",
   "name": "python",
   "nbconvert_exporter": "python",
   "pygments_lexer": "ipython2",
   "version": "2.7.6"
  }
 },
 "nbformat": 4,
 "nbformat_minor": 0
}